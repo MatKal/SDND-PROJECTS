{
 "cells": [
  {
   "cell_type": "markdown",
   "metadata": {},
   "source": [
    "# SDND Project 2 - Finding Lane Lines Advanced"
   ]
  },
  {
   "cell_type": "code",
   "execution_count": 2,
   "metadata": {},
   "outputs": [],
   "source": [
    "# ------- Import ------- #\n",
    "import matplotlib.pyplot as plt\n",
    "import numpy as np\n",
    "import cv2\n",
    "import os"
   ]
  },
  {
   "cell_type": "markdown",
   "metadata": {},
   "source": [
    "### Camera Calibration - Chessboard"
   ]
  },
  {
   "cell_type": "code",
   "execution_count": 3,
   "metadata": {},
   "outputs": [],
   "source": [
    "# ------- 0. Camera Calibration ------- #\n",
    "def Chessboard_Cal_Trans(fname, nx, ny):\n",
    "    \n",
    "    img = cv2.imread(fname)\n",
    "    gray = cv2.cvtColor(img, cv2.COLOR_RGB2GRAY)\n",
    "    \n",
    "    objpoints = []\n",
    "    objp = np.zeros((ny*nx, 3), np.float32)\n",
    "    objp[:, :2] = np.mgrid[0:nx, 0:ny].T.reshape(-1, 2)\n",
    "    imgpoints = []\n",
    "    \n",
    "    ret, corners = cv2.findChessboardCorners(gray, (nx, ny), None)\n",
    "    \n",
    "    if ret == True:\n",
    "        cv2.drawChessboardCorners(img, (nx, ny), corners, ret)\n",
    "        imgpoints.append(corners)\n",
    "        objpoints.append(objp)\n",
    "        \n",
    "    ret, mtx, dist, rvecs, tvecs = cv2.calibrateCamera(objpoints, imgpoints, img.shape[1:], None, None)\n",
    "    undist = cv2.undistort(img, mtx, dist, None, mtx)\n",
    "    \n",
    "    # Perspective transform\n",
    "    offset = 100\n",
    "    img_size = (gray.shape[1], gray.shape[0])\n",
    "    \n",
    "    src = np.float32([corners[0], corners[nx-1], corners[-nx], corners[-1]])\n",
    "    dst = np.float32([[offset, offset], [img_size[0]-offset, offset], \n",
    "                      [offset, img_size[1]-offset], [img_size[0]-offset, img_size[1]-offset]])\n",
    "    \n",
    "    M = cv2.getPerspectiveTransform(src, dst)\n",
    "    warped = cv2.warpPerspective(undist, M, img_size, flags=cv2.INTER_LINEAR)\n",
    "    \n",
    "    return mtx, dist, warped"
   ]
  },
  {
   "cell_type": "code",
   "execution_count": 5,
   "metadata": {},
   "outputs": [],
   "source": [
    "# ------- 0-O. Undistortion Params & Transformed Chessboard ------- #\n",
    "Umtx, Udist, CBwarped = Chessboard_Cal_Trans('camera_cal/calibration2.jpg', 9, 6)\n",
    "\n",
    "cv2.imshow('Result', CBwarped)\n",
    "cv2.waitKey(0)\n",
    "cv2.destroyAllWindows() "
   ]
  },
  {
   "cell_type": "markdown",
   "metadata": {},
   "source": [
    "### Pipeline - Test Images"
   ]
  },
  {
   "cell_type": "code",
   "execution_count": 12,
   "metadata": {},
   "outputs": [],
   "source": [
    "# ------- 1. Test Image Undistortion ------- # \n",
    "# ----- 1.1. \n",
    "def Chessboard_Cal(fname, nx, ny):\n",
    "    \n",
    "    img = cv2.imread(fname)\n",
    "    gray = cv2.cvtColor(img, cv2.COLOR_RGB2GRAY)\n",
    "    \n",
    "    objpoints = []\n",
    "    objp = np.zeros((ny*nx, 3), np.float32)\n",
    "    objp[:, :2] = np.mgrid[0:nx, 0:ny].T.reshape(-1, 2)\n",
    "    imgpoints = []\n",
    "    \n",
    "    ret, corners = cv2.findChessboardCorners(gray, (nx, ny), None)\n",
    "    \n",
    "    if ret == True:\n",
    "        cv2.drawChessboardCorners(img, (nx, ny), corners, ret)\n",
    "        imgpoints.append(corners)\n",
    "        objpoints.append(objp)\n",
    "        \n",
    "    ret, mtx, dist, rvecs, tvecs = cv2.calibrateCamera(objpoints, imgpoints, img.shape[1:], None, None)\n",
    "    undist = cv2.undistort(img, mtx, dist, None, mtx)\n",
    "    \n",
    "    return mtx, dist\n",
    "\n",
    "def Image_Undist_Trans(fname, ipts, opts, ):\n",
    "    \n",
    "    img = cv2.imread(fname)\n",
    "    \n",
    "    undist = cv2.undistort()\n",
    "    \n",
    "    return \"Image undistorted!\""
   ]
  },
  {
   "cell_type": "code",
   "execution_count": 13,
   "metadata": {},
   "outputs": [
    {
     "name": "stdout",
     "output_type": "stream",
     "text": [
      "[[678.70993595   0.         639.39746324]\n",
      " [  0.         637.6587622  205.05940444]\n",
      " [  0.           0.           1.        ]]\n"
     ]
    },
    {
     "data": {
      "text/plain": [
       "'Image undistorted!'"
      ]
     },
     "execution_count": 13,
     "metadata": {},
     "output_type": "execute_result"
    }
   ],
   "source": []
  },
  {
   "cell_type": "code",
   "execution_count": null,
   "metadata": {},
   "outputs": [],
   "source": []
  }
 ],
 "metadata": {
  "kernelspec": {
   "display_name": "Python 3",
   "language": "python",
   "name": "python3"
  },
  "language_info": {
   "codemirror_mode": {
    "name": "ipython",
    "version": 3
   },
   "file_extension": ".py",
   "mimetype": "text/x-python",
   "name": "python",
   "nbconvert_exporter": "python",
   "pygments_lexer": "ipython3",
   "version": "3.8.3"
  }
 },
 "nbformat": 4,
 "nbformat_minor": 4
}
