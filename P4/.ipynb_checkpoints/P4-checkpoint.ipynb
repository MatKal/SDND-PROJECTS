{
 "cells": [
  {
   "cell_type": "markdown",
   "id": "threatened-damages",
   "metadata": {},
   "source": [
    "# SDND Project 4 - Behavior Cloning"
   ]
  },
  {
   "cell_type": "markdown",
   "id": "laden-beginning",
   "metadata": {},
   "source": [
    "## 0. Load & Preprocess Data"
   ]
  },
  {
   "cell_type": "code",
   "execution_count": 14,
   "id": "elder-handbook",
   "metadata": {},
   "outputs": [],
   "source": [
    "import numpy as np\n",
    "import sklearn\n",
    "import cv2\n",
    "import csv\n",
    "import os"
   ]
  },
  {
   "cell_type": "code",
   "execution_count": 18,
   "id": "apparent-annex",
   "metadata": {},
   "outputs": [],
   "source": [
    "# -- 0.1. Split csv data. -- #\n",
    "samples = []\n",
    "with open('./data2/driving_log.csv') as csvfile:\n",
    "    \n",
    "    reader = csv.reader(csvfile)\n",
    "    for line in reader:\n",
    "        samples.append(line)\n",
    "        \n",
    "train_samples, valid_samples = sklearn.model_selection.train_test_split(samples, test_size=0.2)"
   ]
  },
  {
   "cell_type": "code",
   "execution_count": 22,
   "id": "advance-median",
   "metadata": {},
   "outputs": [],
   "source": [
    "# -- 0.2. Generator. -- #\n",
    "def Generator(samples, batch_size):\n",
    "    \n",
    "    num_samples = len(samples)\n",
    "    while 1:\n",
    "        \n",
    "        shuffle(samples)\n",
    "        for offset in range(0, num_samples, batch_size):\n",
    "            \n",
    "            batch_samples = samples[offset:offset+batch_size]\n",
    "            images = []\n",
    "            angles = []\n",
    "            \n",
    "            for batch_sample in batch_samples:\n",
    "                \n",
    "                name = './data2/IMG/' + batch_sample[0].split('/')[-1]\n",
    "                center_image = cv2.imread(name)\n",
    "                center_angle = float(batch_sample[3])\n",
    "                images.append(center_image)\n",
    "                angles.append(center_angle)\n",
    "                \n",
    "            X_train = np.array(images)\n",
    "            y_train = np.array(angles)\n",
    "            \n",
    "            yield sklearn.utils.shuffle(X_train, y_train)"
   ]
  },
  {
   "cell_type": "code",
   "execution_count": 23,
   "id": "adolescent-buffer",
   "metadata": {},
   "outputs": [],
   "source": [
    "batch_size = 32"
   ]
  },
  {
   "cell_type": "code",
   "execution_count": 30,
   "id": "sunset-bridal",
   "metadata": {},
   "outputs": [],
   "source": [
    "train_generator = Generator(train_samples, batch_size=batch_size)\n",
    "valid_generator = Generator(valid_samples, batch_size=batch_size)"
   ]
  },
  {
   "cell_type": "code",
   "execution_count": null,
   "id": "accepting-transcript",
   "metadata": {},
   "outputs": [],
   "source": []
  }
 ],
 "metadata": {
  "kernelspec": {
   "display_name": "Python 3",
   "language": "python",
   "name": "python3"
  },
  "language_info": {
   "codemirror_mode": {
    "name": "ipython",
    "version": 3
   },
   "file_extension": ".py",
   "mimetype": "text/x-python",
   "name": "python",
   "nbconvert_exporter": "python",
   "pygments_lexer": "ipython3",
   "version": "3.7.10"
  }
 },
 "nbformat": 4,
 "nbformat_minor": 5
}
