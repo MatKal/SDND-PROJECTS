{
 "cells": [
  {
   "cell_type": "markdown",
   "id": "threatened-damages",
   "metadata": {},
   "source": [
    "# SDND Project 4 - Behavior Cloning"
   ]
  },
  {
   "cell_type": "markdown",
   "id": "laden-beginning",
   "metadata": {},
   "source": [
    "## 0. Load & Preprocess Data"
   ]
  },
  {
   "cell_type": "code",
   "execution_count": 1,
   "id": "elder-handbook",
   "metadata": {},
   "outputs": [],
   "source": [
    "from sklearn.model_selection import train_test_split\n",
    "import tensorflow as tf\n",
    "import numpy as np\n",
    "import sklearn\n",
    "import random\n",
    "import cv2\n",
    "import csv\n",
    "import os"
   ]
  },
  {
   "cell_type": "code",
   "execution_count": 2,
   "id": "apparent-annex",
   "metadata": {},
   "outputs": [],
   "source": [
    "# -- 0.1. Split csv data. -- #\n",
    "samples = []\n",
    "with open('./data2/driving_log.csv') as csvfile:\n",
    "    \n",
    "    reader = csv.reader(csvfile)\n",
    "    for line in reader:\n",
    "        samples.append(line)\n",
    "        \n",
    "samples.pop(0)\n",
    "images = []\n",
    "angles = []\n",
    "\n",
    "for sample in samples:\n",
    "    name = './data2/IMG/' + sample[0].split('/')[-1]\n",
    "    center_image = cv2.imread(name)\n",
    "    center_angle = float(sample[3])\n",
    "    images.append(center_image)\n",
    "    angles.append(center_angle)\n",
    "\n",
    "X_train = np.array(images)\n",
    "y_train = np.array(angles)\n",
    "# train_samples, valid_samples = train_test_split(samples, test_size=0.2)"
   ]
  },
  {
   "cell_type": "code",
   "execution_count": 3,
   "id": "advance-median",
   "metadata": {},
   "outputs": [],
   "source": [
    "# # -- 0.2. Generator. -- #\n",
    "# def Generator(samples, batch_size):\n",
    "    \n",
    "#     num_samples = len(samples)\n",
    "#     while 1:\n",
    "        \n",
    "#         random.shuffle(samples)\n",
    "#         for offset in range(0, num_samples, batch_size):\n",
    "            \n",
    "#             batch_samples = samples[offset:offset+batch_size]\n",
    "#             images = []\n",
    "#             angles = []\n",
    "            \n",
    "#             for batch_sample in batch_samples:\n",
    "                \n",
    "#                 name = './data2/IMG/' + batch_sample[0].split('/')[-1]\n",
    "#                 center_image = cv2.imread(name)\n",
    "#                 center_angle = float(batch_sample[3])\n",
    "#                 images.append(center_image)\n",
    "#                 angles.append(center_angle)\n",
    "                \n",
    "#             X_train = np.array(images)\n",
    "#             y_train = np.array(angles)\n",
    "            \n",
    "#             yield sklearn.utils.shuffle(X_train, y_train)"
   ]
  },
  {
   "cell_type": "code",
   "execution_count": 4,
   "id": "sunset-bridal",
   "metadata": {},
   "outputs": [],
   "source": [
    "batch_size = 32\n",
    "row, col, ch = 160, 320, 3 # 80\n",
    "\n",
    "\n",
    "# train_generator = Generator(train_samples, batch_size=batch_size)\n",
    "# valid_generator = Generator(valid_samples, batch_size=batch_size)"
   ]
  },
  {
   "cell_type": "code",
   "execution_count": 5,
   "id": "widespread-plasma",
   "metadata": {},
   "outputs": [],
   "source": [
    "# -- Test on minimum model. -- #\n",
    "from keras.layers import Flatten, Dense, Lambda\n",
    "from keras.models import Sequential\n",
    "import math"
   ]
  },
  {
   "cell_type": "code",
   "execution_count": 6,
   "id": "accepting-transcript",
   "metadata": {},
   "outputs": [
    {
     "name": "stdout",
     "output_type": "stream",
     "text": [
      "WARNING:tensorflow:Model was constructed with shape (None, 3, 160, 320) for input KerasTensor(type_spec=TensorSpec(shape=(None, 3, 160, 320), dtype=tf.float32, name='lambda_input'), name='lambda_input', description=\"created by layer 'lambda_input'\"), but it was called on an input with incompatible shape (None, 160, 320, 3).\n",
      "WARNING:tensorflow:Model was constructed with shape (None, 3, 160, 320) for input KerasTensor(type_spec=TensorSpec(shape=(None, 3, 160, 320), dtype=tf.float32, name='lambda_input'), name='lambda_input', description=\"created by layer 'lambda_input'\"), but it was called on an input with incompatible shape (None, 160, 320, 3).\n",
      "192/201 [===========================>..] - ETA: 0s - loss: 4.0641WARNING:tensorflow:Model was constructed with shape (None, 3, 160, 320) for input KerasTensor(type_spec=TensorSpec(shape=(None, 3, 160, 320), dtype=tf.float32, name='lambda_input'), name='lambda_input', description=\"created by layer 'lambda_input'\"), but it was called on an input with incompatible shape (None, 160, 320, 3).\n",
      "201/201 [==============================] - 3s 10ms/step - loss: 3.9699 - val_loss: 1.0332\n"
     ]
    }
   ],
   "source": [
    "model = Sequential()\n",
    "\n",
    "model.add(Lambda(lambda x: x / 255.0 - 0.5, input_shape=(ch, row, col)))\n",
    "model.add(Flatten())\n",
    "model.add(Dense(1))\n",
    "\n",
    "model.compile(loss='mse', optimizer='adam')\n",
    "model.fit(X_train, y_train, validation_split=0.2, shuffle=True, epochs=1)\n",
    "\n",
    "model.save('model.h5')"
   ]
  },
  {
   "cell_type": "code",
   "execution_count": null,
   "id": "reflected-layout",
   "metadata": {},
   "outputs": [],
   "source": [
    "! python drive.py model.h5"
   ]
  }
 ],
 "metadata": {
  "kernelspec": {
   "display_name": "Python 3",
   "language": "python",
   "name": "python3"
  },
  "language_info": {
   "codemirror_mode": {
    "name": "ipython",
    "version": 3
   },
   "file_extension": ".py",
   "mimetype": "text/x-python",
   "name": "python",
   "nbconvert_exporter": "python",
   "pygments_lexer": "ipython3",
   "version": "3.7.10"
  }
 },
 "nbformat": 4,
 "nbformat_minor": 5
}
