{
 "cells": [
  {
   "cell_type": "markdown",
   "id": "realistic-harrison",
   "metadata": {},
   "source": [
    "# SDND Project 3 - Traffic Sign Recognition Classifier"
   ]
  },
  {
   "cell_type": "markdown",
   "id": "higher-corrections",
   "metadata": {},
   "source": [
    "## 0. Load the Data"
   ]
  },
  {
   "cell_type": "code",
   "execution_count": 1,
   "id": "civilian-lightning",
   "metadata": {},
   "outputs": [],
   "source": [
    "import pickle"
   ]
  },
  {
   "cell_type": "code",
   "execution_count": 2,
   "id": "closing-politics",
   "metadata": {},
   "outputs": [],
   "source": [
    "training_file = \"traffic-signs-data/train.p\"\n",
    "validation_file = \"traffic-signs-data/valid.p\"\n",
    "testing_file = \"traffic-signs-data/test.p\"\n",
    "\n",
    "with open(training_file, mode='rb') as f:\n",
    "    train = pickle.load(f)\n",
    "with open(validation_file, mode='rb') as f:\n",
    "    valid = pickle.load(f)\n",
    "with open(testing_file, mode='rb') as f:\n",
    "    test = pickle.load(f)\n",
    "    \n",
    "X_train, y_train = train['features'], train['labels']\n",
    "X_valid, y_valid = valid['features'], valid['labels']\n",
    "X_test, y_test = test['features'], test['labels']"
   ]
  },
  {
   "cell_type": "markdown",
   "id": "necessary-guyana",
   "metadata": {},
   "source": [
    "## 1. Dataset Summary"
   ]
  },
  {
   "cell_type": "code",
   "execution_count": 3,
   "id": "biblical-gazette",
   "metadata": {},
   "outputs": [],
   "source": [
    "import matplotlib.pyplot as plt\n",
    "import random"
   ]
  },
  {
   "cell_type": "code",
   "execution_count": 4,
   "id": "anticipated-magic",
   "metadata": {},
   "outputs": [
    {
     "name": "stdout",
     "output_type": "stream",
     "text": [
      "Number of training examples = 34799\n",
      "Number of validation examples = 4410\n",
      "Number of testing examples = 12630\n",
      "Image data shape = (32, 32, 3)\n",
      "Number of classes = 43\n"
     ]
    }
   ],
   "source": [
    "# -- Number of samples -- #\n",
    "n_train = len(X_train)   \n",
    "n_valid = len(X_valid)   \n",
    "n_test = len(X_test)     \n",
    "\n",
    "# -- Shape of a traffic sign image -- # \n",
    "image_shape = X_train[0].shape        \n",
    "\n",
    "# -- Number of classes -- #\n",
    "n_classes = len(set(y_train)) \n",
    "\n",
    "print(\"Number of training examples =\", n_train)\n",
    "print(\"Number of validation examples =\", n_valid)\n",
    "print(\"Number of testing examples =\", n_test)\n",
    "print(\"Image data shape =\", image_shape)\n",
    "print(\"Number of classes =\", n_classes)"
   ]
  },
  {
   "cell_type": "markdown",
   "id": "worldwide-munich",
   "metadata": {},
   "source": [
    "### Exploratory Visualization of Dataset - TBA"
   ]
  },
  {
   "cell_type": "code",
   "execution_count": 5,
   "id": "talented-prevention",
   "metadata": {},
   "outputs": [
    {
     "name": "stdout",
     "output_type": "stream",
     "text": [
      "31\n"
     ]
    },
    {
     "data": {
      "image/png": "[encoded data removed]",
      "text/plain": [
       "<Figure size 72x72 with 1 Axes>"
      ]
     },
     "metadata": {
      "needs_background": "light"
     },
     "output_type": "display_data"
    }
   ],
   "source": [
    "%matplotlib inline\n",
    "\n",
    "index = random.randint(0, len(X_train))\n",
    "image = X_train[index].squeeze()\n",
    "\n",
    "plt.figure(figsize=(1,1))\n",
    "plt.imshow(image, cmap=\"gray\")\n",
    "print(y_train[index])"
   ]
  },
  {
   "cell_type": "markdown",
   "id": "optional-plenty",
   "metadata": {},
   "source": [
    "## 2. Model Architecture"
   ]
  },
  {
   "cell_type": "markdown",
   "id": "dominican-scale",
   "metadata": {},
   "source": [
    "### 2.1. Data pre-processing"
   ]
  },
  {
   "cell_type": "code",
   "execution_count": 6,
   "id": "informative-series",
   "metadata": {},
   "outputs": [],
   "source": [
    "from sklearn.utils import shuffle\n",
    "import tensorflow as tf\n",
    "import numpy as np\n",
    "import random"
   ]
  },
  {
   "cell_type": "code",
   "execution_count": 7,
   "id": "hybrid-albany",
   "metadata": {},
   "outputs": [],
   "source": [
    "def Augment_Images(X, y):\n",
    "    \n",
    "    augmented = []\n",
    "    for i in range(len(X)):\n",
    "        \n",
    "        seed = (i, 0)\n",
    "        image = tf.cast(X[i], tf.float32)\n",
    "        image = (image / 255.0)\n",
    "        \n",
    "        flag = random.randint(0, 9)\n",
    "        \n",
    "        if (flag <= 5):\n",
    "            result = (image * 255)\n",
    "            augmented.append(result)\n",
    "            \n",
    "        if (flag == 6):\n",
    "            flip_h = tf.image.flip_left_right(image)\n",
    "            result = (flip_h * 255)\n",
    "            augmented.append(result)\n",
    "            \n",
    "        if (flag == 7):\n",
    "            flip_v = tf.image.flip_up_down(image)\n",
    "            result = (flip_v * 255)\n",
    "            augmented.append(result)\n",
    "            \n",
    "        if (flag == 8):\n",
    "            bright = tf.image.stateless_random_brightness(image, 0.1, seed)\n",
    "            result = (bright * 255)\n",
    "            augmented.append(result)\n",
    "            \n",
    "        if (flag == 9):\n",
    "            contrast = tf.image.stateless_random_contrast(image, 0.9, 1.1, seed)\n",
    "            result = (contrast * 255)\n",
    "            augmented.append(result)\n",
    "            \n",
    "    augmented_nm, y = Normalize_Images(augmented, y)\n",
    "        \n",
    "    return augmented_nm, y\n",
    "\n",
    "def Normalize_Images(X, y):\n",
    "    \n",
    "    normalized = []\n",
    "    \n",
    "    for i in range(len(X)):\n",
    "        \n",
    "        image = tf.cast(X[i], tf.float32)\n",
    "        image = (image - 128.0) / 128.0\n",
    "        normalized.append(image)\n",
    "    \n",
    "    return normalized, y"
   ]
  },
  {
   "cell_type": "code",
   "execution_count": 8,
   "id": "dangerous-candle",
   "metadata": {
    "scrolled": false
   },
   "outputs": [
    {
     "name": "stdout",
     "output_type": "stream",
     "text": [
      "[1-0] Preprocessing Start!\n",
      "[1-1] Shuffle Done!\n",
      "[1-2] Training Data Augmented!\n",
      "[1-3] Datasets Normalized!\n",
      "[1-F] Preprocessing Done!\n"
     ]
    }
   ],
   "source": [
    "print(\"[1-0] Preprocessing Start!\")\n",
    "\n",
    "# -- 2.1.1. Shuffle the datasets. -- # \n",
    "X_train_sf, y_train_sf = shuffle(X_train, y_train)\n",
    "X_valid_sf, y_valid_sf = shuffle(X_valid, y_valid)\n",
    "X_test_sf, y_test_sf = shuffle(X_test, y_test)\n",
    "print(\"[1-1] Shuffle Done!\")\n",
    "\n",
    "# -- 2.1.2. Data augmentation & normalization. -- #\n",
    "X_train_pp, y_train_pp = Augment_Images(X_train_sf, y_train_sf)\n",
    "print(\"[1-2] Training Data Augmented!\")\n",
    "\n",
    "X_train_nm, y_train_nm = Normalize_Images(X_train_sf, y_train_sf)\n",
    "X_valid_nm, y_valid_nm = Normalize_Images(X_valid_sf, y_valid_sf)\n",
    "X_test_nm, y_test_nm = Normalize_Images(X_test_sf, y_test_sf)\n",
    "print(\"[1-3] Datasets Normalized!\")\n",
    "\n",
    "print(\"[1-F] Preprocessing Done!\")"
   ]
  },
  {
   "cell_type": "markdown",
   "id": "frozen-facility",
   "metadata": {},
   "source": [
    "### 2.2. LeNet-5"
   ]
  },
  {
   "cell_type": "code",
   "execution_count": 94,
   "id": "major-disposition",
   "metadata": {},
   "outputs": [],
   "source": [
    "import tensorflow.compat.v1 as v1"
   ]
  },
  {
   "cell_type": "code",
   "execution_count": 95,
   "id": "leading-greensboro",
   "metadata": {},
   "outputs": [],
   "source": [
    "def LeNet5(X):\n",
    "    \n",
    "    # - Random W & b. - # \n",
    "    mu = 0\n",
    "    sigma = 0.1\n",
    "    epsilon = 0.001\n",
    "    \n",
    "    # - L1: Conv. Input: 32x32x3. Output: 28x28x6. - #\n",
    "    conv1_W = tf.Variable(tf.random.truncated_normal(shape=(5, 5, 3, 6), mean=mu, stddev=sigma))\n",
    "    conv1_b = tf.Variable(tf.zeros(6))\n",
    "    conv1   = tf.add(tf.nn.conv2d(X, conv1_W, strides=[1, 1, 1, 1], padding='VALID'), conv1_b)\n",
    "    conv1   = tf.nn.relu(conv1)\n",
    "    # -- L1 Batch normalization. \n",
    "    mean_1, var_1 = v1.nn.moments(conv1, [0])\n",
    "    scale_1 = tf.Variable(tf.ones([28, 28, 6]))\n",
    "    offset_1 = tf.Variable(tf.zeros([28, 28, 6]))\n",
    "    conv1 = v1.nn.batch_normalization(conv1, mean_1, var_1, offset_1, scale_1, epsilon)\n",
    "    # -- L1 Pooling. Input: 28x28x6. Output: 14x14x6. \n",
    "    conv1   = tf.nn.max_pool(conv1, ksize=[1, 2, 2, 1], strides=[1, 2, 2, 1], padding='VALID')\n",
    "    \n",
    "    # - L2: Conv. Input: 14x14x6. Output: 10x10x16. - # \n",
    "    conv2_W = tf.Variable(tf.random.truncated_normal(shape=(5, 5, 6, 16), mean = mu, stddev = sigma))\n",
    "    conv2_b = tf.Variable(tf.zeros(16))\n",
    "    conv2   = tf.add(tf.nn.conv2d(conv1, conv2_W, strides=[1, 1, 1, 1], padding='VALID'), conv2_b)\n",
    "    conv2   = tf.nn.relu(conv2)\n",
    "    # -- L2 Batch normalization. \n",
    "    mean_2, var_2 = v1.nn.moments(conv2, [0])\n",
    "    scale_2 = tf.Variable(tf.ones([10, 10, 16]))\n",
    "    offset_2 = tf.Variable(tf.zeros([10, 10, 16]))\n",
    "    conv2 = v1.nn.batch_normalization(conv2, mean_2, var_2, offset_2, scale_2, epsilon)\n",
    "    # -- L2 Pooling. Input: 10x10x16. Output: 5x5x16. \n",
    "    conv2   = tf.nn.max_pool(conv2, ksize=[1, 2, 2, 1], strides=[1, 2, 2, 1], padding='VALID')\n",
    "    # -- L2 Flatten. Input: 5x5x16. Output: 400.\n",
    "    fc0     = v1.layers.flatten(conv2)   \n",
    "    \n",
    "    # - L3: Fully connected. Input: 400. Output: 120. - #\n",
    "    fc1_W   = tf.Variable(tf.random.truncated_normal(shape=(400, 120), mean = mu, stddev = sigma))\n",
    "    fc1_b   = tf.Variable(tf.zeros(120))\n",
    "    fc1     = tf.add(tf.matmul(fc0, fc1_W), fc1_b)\n",
    "    fc1     = tf.nn.relu(fc1)\n",
    "    # -- L3. Batch normalization. \n",
    "    mean_3, var_3 = v1.nn.moments(fc1, [0])\n",
    "    scale_3 = tf.Variable(tf.ones([120]))\n",
    "    offset_3 = tf.Variable(tf.zeros([120]))\n",
    "    fc1 = v1.nn.batch_normalization(fc1, mean_3, var_3, offset_3, scale_3, epsilon)\n",
    "    # -- L3. Dropout. \n",
    "    fc1     = v1.nn.dropout(fc1, keep_prob)\n",
    "    \n",
    "    # - L4: Fully connected. Input: 120. Output: 84. - #\n",
    "    fc2_W   = tf.Variable(tf.random.truncated_normal(shape=(120, 84), mean = mu, stddev = sigma))\n",
    "    fc2_b   = tf.Variable(tf.zeros(84))\n",
    "    fc2     = tf.add(tf.matmul(fc1, fc2_W), fc2_b)\n",
    "    fc2     = tf.nn.relu(fc2)\n",
    "    # -- L4. Batch normalization. \n",
    "    mean_4, var_4 = v1.nn.moments(fc2, [0])\n",
    "    scale_4 = tf.Variable(tf.ones([84]))\n",
    "    offset_4 = tf.Variable(tf.zeros([84]))\n",
    "    fc2 = v1.nn.batch_normalization(fc2, mean_4, var_4, offset_4, scale_4, epsilon)\n",
    "    # -- L4. Dropout. \n",
    "    fc2     = v1.nn.dropout(fc2, keep_prob)\n",
    "    \n",
    "    # - L5: Fully connected. Input: 84. Output: 43. - # \n",
    "    fc3_W   = tf.Variable(tf.random.truncated_normal(shape=(84, 43), mean = mu, stddev = sigma))\n",
    "    fc3_b   = tf.Variable(tf.zeros(43))\n",
    "    fc3     = tf.add(tf.matmul(fc2, fc3_W), fc3_b)\n",
    "    logits  = fc3\n",
    "    \n",
    "    return logits"
   ]
  },
  {
   "cell_type": "markdown",
   "id": "massive-dover",
   "metadata": {},
   "source": [
    "### 2.3. Pipeline"
   ]
  },
  {
   "cell_type": "code",
   "execution_count": 88,
   "id": "controlled-shuttle",
   "metadata": {},
   "outputs": [],
   "source": [
    "EPOCHS = 25\n",
    "BATCH_SIZE = 256\n",
    "ETA = 0.004"
   ]
  },
  {
   "cell_type": "code",
   "execution_count": 89,
   "id": "photographic-officer",
   "metadata": {},
   "outputs": [
    {
     "name": "stderr",
     "output_type": "stream",
     "text": [
      "D:\\MLSB\\Environment\\envs\\UDND\\lib\\site-packages\\tensorflow\\python\\keras\\legacy_tf_layers\\core.py:329: UserWarning: `tf.layers.flatten` is deprecated and will be removed in a future version. Please use `tf.keras.layers.Flatten` instead.\n",
      "  warnings.warn('`tf.layers.flatten` is deprecated and '\n",
      "D:\\MLSB\\Environment\\envs\\UDND\\lib\\site-packages\\tensorflow\\python\\keras\\engine\\base_layer_v1.py:1719: UserWarning: `layer.apply` is deprecated and will be removed in a future version. Please use `layer.__call__` method instead.\n",
      "  warnings.warn('`layer.apply` is deprecated and '\n"
     ]
    }
   ],
   "source": [
    "G = v1.Graph()\n",
    "\n",
    "with G.as_default():\n",
    "    \n",
    "    x = v1.placeholder(tf.float32, (None, 32, 32, 3))\n",
    "    y = v1.placeholder(tf.int32, (None))\n",
    "    one_hot_y = v1.one_hot(y, 43)\n",
    "    keep_prob = v1.placeholder(v1.float32)\n",
    "    \n",
    "    logits = LeNet5(x)\n",
    "    cross_entropy = tf.nn.softmax_cross_entropy_with_logits(labels=one_hot_y, logits=logits)\n",
    "\n",
    "    loss_operation = tf.reduce_mean(cross_entropy)\n",
    "    optimizer = v1.train.AdamOptimizer(learning_rate = ETA)\n",
    "    training_operation = optimizer.minimize(loss_operation)\n",
    "\n",
    "    correct_prediction = tf.equal(tf.argmax(logits, 1), tf.argmax(one_hot_y, 1))\n",
    "    accuracy_operation = tf.reduce_mean(tf.cast(correct_prediction, tf.float32))\n",
    "    saver = v1.train.Saver()\n",
    "    \n",
    "    def Evaluate_Model(X_data, y_data):\n",
    "        \n",
    "        num_examples = len(X_data)\n",
    "        total_accuracy = 0\n",
    "        sess = v1.get_default_session()\n",
    "        \n",
    "        for offset in range(0, num_examples, BATCH_SIZE):\n",
    "            \n",
    "            batch_x, batch_y = X_data[offset : offset+BATCH_SIZE], y_data[offset : offset+BATCH_SIZE]\n",
    "            accuracy = sess.run(accuracy_operation, feed_dict={x: batch_x, y: batch_y, keep_prob: 1})\n",
    "            total_accuracy += (accuracy * len(batch_x))\n",
    "            \n",
    "        return total_accuracy / num_examples"
   ]
  },
  {
   "cell_type": "code",
   "execution_count": 90,
   "id": "therapeutic-vegetable",
   "metadata": {},
   "outputs": [
    {
     "name": "stdout",
     "output_type": "stream",
     "text": [
      "Training...\n",
      "\n",
      "EPOCH 1 ...\n",
      "Validation Accuracy = 0.751\n",
      "\n",
      "EPOCH 2 ...\n",
      "Validation Accuracy = 0.855\n",
      "\n",
      "EPOCH 3 ...\n",
      "Validation Accuracy = 0.890\n",
      "\n",
      "EPOCH 4 ...\n",
      "Validation Accuracy = 0.890\n",
      "\n",
      "EPOCH 5 ...\n",
      "Validation Accuracy = 0.903\n",
      "\n",
      "EPOCH 6 ...\n",
      "Validation Accuracy = 0.899\n",
      "\n",
      "EPOCH 7 ...\n",
      "Validation Accuracy = 0.919\n",
      "\n",
      "EPOCH 8 ...\n",
      "Validation Accuracy = 0.919\n",
      "\n",
      "EPOCH 9 ...\n",
      "Validation Accuracy = 0.925\n",
      "\n",
      "EPOCH 10 ...\n",
      "Validation Accuracy = 0.922\n",
      "\n",
      "EPOCH 11 ...\n",
      "Validation Accuracy = 0.928\n",
      "\n",
      "EPOCH 12 ...\n",
      "Validation Accuracy = 0.932\n",
      "\n",
      "EPOCH 13 ...\n",
      "Validation Accuracy = 0.921\n",
      "\n",
      "EPOCH 14 ...\n",
      "Validation Accuracy = 0.932\n",
      "\n",
      "EPOCH 15 ...\n",
      "Validation Accuracy = 0.938\n",
      "\n",
      "EPOCH 16 ...\n",
      "Validation Accuracy = 0.928\n",
      "\n",
      "EPOCH 17 ...\n",
      "Validation Accuracy = 0.936\n",
      "\n",
      "EPOCH 18 ...\n",
      "Validation Accuracy = 0.929\n",
      "\n",
      "EPOCH 19 ...\n",
      "Validation Accuracy = 0.925\n",
      "\n",
      "EPOCH 20 ...\n",
      "Validation Accuracy = 0.927\n",
      "\n",
      "EPOCH 21 ...\n",
      "Validation Accuracy = 0.918\n",
      "\n",
      "EPOCH 22 ...\n",
      "Validation Accuracy = 0.932\n",
      "\n",
      "EPOCH 23 ...\n",
      "Validation Accuracy = 0.939\n",
      "\n",
      "EPOCH 24 ...\n",
      "Validation Accuracy = 0.928\n",
      "\n",
      "EPOCH 25 ...\n",
      "Validation Accuracy = 0.932\n",
      "\n",
      "Model saved\n"
     ]
    }
   ],
   "source": [
    "with v1.Session(graph=G) as sess:\n",
    "    \n",
    "    sess.run(v1.global_variables_initializer())\n",
    "    num_examples = len(X_train_pp)\n",
    "    \n",
    "    print(\"Training...\")\n",
    "    print()\n",
    "    v1.set_random_seed(123456)\n",
    "    for i in range(EPOCHS):\n",
    "        \n",
    "        X_train, y_train = shuffle(X_train_pp, y_train_pp)\n",
    "        \n",
    "        for offset in range(0, num_examples, BATCH_SIZE):\n",
    "            \n",
    "            end = offset + BATCH_SIZE\n",
    "            batch_x, batch_y = X_train[offset:end], y_train[offset:end]\n",
    "            sess.run(training_operation, feed_dict={x: batch_x, y: batch_y, keep_prob: 0.5})\n",
    "            \n",
    "        validation_accuracy = Evaluate_Model(X_valid_nm, y_valid_nm)\n",
    "        \n",
    "        print(\"EPOCH {} ...\".format(i+1))\n",
    "        print(\"Validation Accuracy = {:.3f}\".format(validation_accuracy))\n",
    "        print()\n",
    "        \n",
    "    saver.save(sess, './lenet')\n",
    "    print(\"Model saved\")"
   ]
  },
  {
   "cell_type": "code",
   "execution_count": 91,
   "id": "metallic-article",
   "metadata": {},
   "outputs": [
    {
     "name": "stdout",
     "output_type": "stream",
     "text": [
      "INFO:tensorflow:Restoring parameters from .\\lenet\n",
      "Test Accuracy = 0.927\n"
     ]
    }
   ],
   "source": [
    "with v1.Session(graph=G) as sess:\n",
    "    \n",
    "    saver.restore(sess, tf.train.latest_checkpoint('.'))\n",
    "    test_accuracy = Evaluate_Model(X_test_nm, y_test_nm)\n",
    "    \n",
    "    print(\"Test Accuracy = {:.3f}\".format(test_accuracy))"
   ]
  },
  {
   "cell_type": "code",
   "execution_count": 92,
   "id": "hindu-nomination",
   "metadata": {},
   "outputs": [
    {
     "name": "stdout",
     "output_type": "stream",
     "text": [
      "INFO:tensorflow:Restoring parameters from .\\lenet\n",
      "Validation Accuracy = 0.932\n"
     ]
    }
   ],
   "source": [
    "with v1.Session(graph=G) as sess:\n",
    "    \n",
    "    saver.restore(sess, tf.train.latest_checkpoint('.'))\n",
    "    valid_accuracy = Evaluate_Model(X_valid_nm, y_valid_nm)\n",
    "    \n",
    "    print(\"Validation Accuracy = {:.3f}\".format(valid_accuracy))"
   ]
  },
  {
   "cell_type": "code",
   "execution_count": 93,
   "id": "sapphire-ridge",
   "metadata": {},
   "outputs": [
    {
     "name": "stdout",
     "output_type": "stream",
     "text": [
      "INFO:tensorflow:Restoring parameters from .\\lenet\n",
      "Training Accuracy = 0.992\n"
     ]
    }
   ],
   "source": [
    "with v1.Session(graph=G) as sess:\n",
    "    \n",
    "    saver.restore(sess, tf.train.latest_checkpoint('.'))\n",
    "    train_accuracy = Evaluate_Model(X_train_nm, y_train_nm)\n",
    "    \n",
    "    print(\"Training Accuracy = {:.3f}\".format(train_accuracy))"
   ]
  },
  {
   "cell_type": "markdown",
   "id": "solid-bradley",
   "metadata": {},
   "source": [
    "## 3. Test Model on New Images"
   ]
  },
  {
   "cell_type": "markdown",
   "id": "arctic-theme",
   "metadata": {},
   "source": [
    "### 3.1. Load and plot the images"
   ]
  },
  {
   "cell_type": "code",
   "execution_count": null,
   "id": "sensitive-exemption",
   "metadata": {},
   "outputs": [],
   "source": []
  },
  {
   "cell_type": "markdown",
   "id": "super-mileage",
   "metadata": {},
   "source": [
    "### 3.2. Predict the sign type for each image"
   ]
  },
  {
   "cell_type": "code",
   "execution_count": null,
   "id": "entertaining-smile",
   "metadata": {},
   "outputs": [],
   "source": []
  },
  {
   "cell_type": "markdown",
   "id": "exciting-locator",
   "metadata": {},
   "source": [
    "### 3.3. 5 Top Softmax probabilities for each image"
   ]
  },
  {
   "cell_type": "code",
   "execution_count": null,
   "id": "minimal-congress",
   "metadata": {},
   "outputs": [],
   "source": []
  }
 ],
 "metadata": {
  "kernelspec": {
   "display_name": "Python 3",
   "language": "python",
   "name": "python3"
  },
  "language_info": {
   "codemirror_mode": {
    "name": "ipython",
    "version": 3
   },
   "file_extension": ".py",
   "mimetype": "text/x-python",
   "name": "python",
   "nbconvert_exporter": "python",
   "pygments_lexer": "ipython3",
   "version": "3.7.10"
  }
 },
 "nbformat": 4,
 "nbformat_minor": 5
}
