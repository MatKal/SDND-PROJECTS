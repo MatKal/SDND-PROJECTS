{
 "cells": [
  {
   "cell_type": "markdown",
   "id": "realistic-harrison",
   "metadata": {},
   "source": [
    "# SDND Project 3 - Traffic Sign Recognition Classifier"
   ]
  },
  {
   "cell_type": "markdown",
   "id": "higher-corrections",
   "metadata": {},
   "source": [
    "## 0. Load the Data"
   ]
  },
  {
   "cell_type": "code",
   "execution_count": 1,
   "id": "civilian-lightning",
   "metadata": {},
   "outputs": [],
   "source": [
    "import pickle"
   ]
  },
  {
   "cell_type": "code",
   "execution_count": 2,
   "id": "closing-politics",
   "metadata": {},
   "outputs": [],
   "source": [
    "training_file = \"traffic-signs-data/train.p\"\n",
    "validation_file = \"traffic-signs-data/valid.p\"\n",
    "testing_file = \"traffic-signs-data/test.p\"\n",
    "\n",
    "with open(training_file, mode='rb') as f:\n",
    "    train = pickle.load(f)\n",
    "with open(validation_file, mode='rb') as f:\n",
    "    valid = pickle.load(f)\n",
    "with open(testing_file, mode='rb') as f:\n",
    "    test = pickle.load(f)\n",
    "    \n",
    "X_train, y_train = train['features'], train['labels']\n",
    "X_valid, y_valid = valid['features'], valid['labels']\n",
    "X_test, y_test = test['features'], test['labels']"
   ]
  },
  {
   "cell_type": "markdown",
   "id": "necessary-guyana",
   "metadata": {},
   "source": [
    "## 1. Dataset Summary"
   ]
  },
  {
   "cell_type": "code",
   "execution_count": 3,
   "id": "biblical-gazette",
   "metadata": {},
   "outputs": [],
   "source": [
    "import matplotlib.pyplot as plt\n",
    "import random"
   ]
  },
  {
   "cell_type": "code",
   "execution_count": 4,
   "id": "anticipated-magic",
   "metadata": {},
   "outputs": [
    {
     "name": "stdout",
     "output_type": "stream",
     "text": [
      "Number of training examples = 34799\n",
      "Number of validation examples = 4410\n",
      "Number of testing examples = 12630\n",
      "Image data shape = (32, 32, 3)\n",
      "Number of classes = 43\n"
     ]
    }
   ],
   "source": [
    "# -- Number of samples -- #\n",
    "n_train = len(X_train)   \n",
    "n_valid = len(X_valid)   \n",
    "n_test = len(X_test)     \n",
    "\n",
    "# -- Shape of a traffic sign image -- # \n",
    "image_shape = X_train[0].shape        \n",
    "\n",
    "# -- Number of classes -- #\n",
    "n_classes = len(set(y_train)) \n",
    "\n",
    "print(\"Number of training examples =\", n_train)\n",
    "print(\"Number of validation examples =\", n_valid)\n",
    "print(\"Number of testing examples =\", n_test)\n",
    "print(\"Image data shape =\", image_shape)\n",
    "print(\"Number of classes =\", n_classes)"
   ]
  },
  {
   "cell_type": "markdown",
   "id": "worldwide-munich",
   "metadata": {},
   "source": [
    "### Exploratory Visualization of Dataset - TBA"
   ]
  },
  {
   "cell_type": "code",
   "execution_count": 5,
   "id": "talented-prevention",
   "metadata": {},
   "outputs": [
    {
     "name": "stdout",
     "output_type": "stream",
     "text": [
      "1\n"
     ]
    },
    {
     "data": {
      "image/png": "[encoded data removed]",
      "text/plain": [
       "<Figure size 72x72 with 1 Axes>"
      ]
     },
     "metadata": {
      "needs_background": "light"
     },
     "output_type": "display_data"
    }
   ],
   "source": [
    "%matplotlib inline\n",
    "\n",
    "index = random.randint(0, len(X_train))\n",
    "image = X_train[index].squeeze()\n",
    "\n",
    "plt.figure(figsize=(1,1))\n",
    "plt.imshow(image, cmap=\"gray\")\n",
    "print(y_train[index])"
   ]
  },
  {
   "cell_type": "markdown",
   "id": "optional-plenty",
   "metadata": {},
   "source": [
    "## 2. Model Architecture"
   ]
  },
  {
   "cell_type": "markdown",
   "id": "dominican-scale",
   "metadata": {},
   "source": [
    "### 2.1. Data pre-processing"
   ]
  },
  {
   "cell_type": "code",
   "execution_count": 6,
   "id": "informative-series",
   "metadata": {},
   "outputs": [],
   "source": [
    "from sklearn.utils import shuffle\n",
    "import tensorflow as tf\n",
    "import numpy as np\n",
    "import random"
   ]
  },
  {
   "cell_type": "code",
   "execution_count": 7,
   "id": "hybrid-albany",
   "metadata": {},
   "outputs": [],
   "source": [
    "def Preprocess_Images(X, y):\n",
    "    print(\"[1-0] Preprocessing Start!\")\n",
    "    \n",
    "    augmented = []\n",
    "    for i in range(len(X)):\n",
    "        \n",
    "        seed = (i, 0)\n",
    "        image = tf.cast(X[i], tf.float32)\n",
    "        image = (image / 255.0)\n",
    "        \n",
    "        flag = random.randint(0, 9)\n",
    "        \n",
    "        if (flag <= 5):\n",
    "            result = ((image * 255) - 128) / 128\n",
    "            augmented.append(result)\n",
    "            \n",
    "        if (flag == 6):\n",
    "            flip_h = tf.image.flip_left_right(image)\n",
    "            result = ((flip_h * 255) - 128) / 128\n",
    "            augmented.append(result)\n",
    "            \n",
    "        if (flag == 7):\n",
    "            flip_v = tf.image.flip_up_down(image)\n",
    "            result = ((flip_v * 255) - 128) / 128\n",
    "            augmented.append(result)\n",
    "            \n",
    "        if (flag == 8):\n",
    "            bright = tf.image.stateless_random_brightness(image, 0.1, seed)\n",
    "            result = ((bright * 255) - 128) / 128\n",
    "            augmented.append(result)\n",
    "            \n",
    "        if (flag == 9):\n",
    "            contrast = tf.image.stateless_random_contrast(image, 0.9, 1.1, seed)\n",
    "            result = ((contrast * 255) - 128) / 128\n",
    "            augmented.append(result)\n",
    "\n",
    "    print(\"[1-1] Preprocessing Done!\")\n",
    "    return augmented, y"
   ]
  },
  {
   "cell_type": "code",
   "execution_count": 8,
   "id": "dangerous-candle",
   "metadata": {
    "scrolled": false
   },
   "outputs": [
    {
     "name": "stdout",
     "output_type": "stream",
     "text": [
      "[1-0] Preprocessing Start!\n",
      "[1-1] Preprocessing Done!\n"
     ]
    }
   ],
   "source": [
    "# -- 2.1.1. Shuffle the datasets. -- # \n",
    "X_train_sf, y_train_sf = shuffle(X_train, y_train)\n",
    "X_valid_sf, y_valid_sf = shuffle(X_valid, y_valid)\n",
    "X_test_sf, y_test_sf = shuffle(X_test, y_test)\n",
    "\n",
    "# -- 2.1.2. Data augmentation & normalization. -- #\n",
    "X_train_pp, y_train_pp = Preprocess_Images(X_train_sf, y_train_sf) "
   ]
  },
  {
   "cell_type": "code",
   "execution_count": 9,
   "id": "premier-transport",
   "metadata": {},
   "outputs": [],
   "source": [
    "# tst1 = X_train_pp[12]*128+128\n",
    "# plt.imshow(np.uint8(tst1))"
   ]
  },
  {
   "cell_type": "markdown",
   "id": "frozen-facility",
   "metadata": {},
   "source": [
    "### 2.2. LeNet-5"
   ]
  },
  {
   "cell_type": "code",
   "execution_count": 10,
   "id": "leading-greensboro",
   "metadata": {},
   "outputs": [],
   "source": [
    "import tensorflow.compat.v1 as v1\n",
    "\n",
    "def LeNet5(X):\n",
    "    \n",
    "    # - Random W & b. - # \n",
    "    mu = 0\n",
    "    sigma = 0.1\n",
    "    \n",
    "    # - L1: Conv. Input: 32x32x3. Output: 28x28x6. - #\n",
    "    conv1_W = tf.Variable(tf.random.truncated_normal(shape=(5, 5, 3, 6), mean=mu, stddev=sigma))\n",
    "    conv1_b = tf.Variable(tf.zeros(6))\n",
    "    conv1   = tf.nn.conv2d(X, conv1_W, strides=[1, 1, 1, 1], padding='VALID') + conv1_b\n",
    "    conv1   = tf.nn.relu(conv1)\n",
    "    \n",
    "    # - L1 Pooling. Input: 28x28x6. Output: 14x14x6. - #\n",
    "    conv1   = tf.nn.max_pool(conv1, ksize=[1, 2, 2, 1], strides=[1, 2, 2, 1], padding='VALID')\n",
    "    \n",
    "    # - L2: Conv. Input: 14x14x6. Output: 10x10x16. - # \n",
    "    conv2_W = tf.Variable(tf.random.truncated_normal(shape=(5, 5, 6, 16), mean = mu, stddev = sigma))\n",
    "    conv2_b = tf.Variable(tf.zeros(16))\n",
    "    conv2   = tf.nn.conv2d(conv1, conv2_W, strides=[1, 1, 1, 1], padding='VALID') + conv2_b\n",
    "    conv2   = tf.nn.relu(conv2)\n",
    "    \n",
    "    # - L2 Pooling. Input: 10x10x16. Output: 5x5x16. - # \n",
    "    conv2   = tf.nn.max_pool(conv2, ksize=[1, 2, 2, 1], strides=[1, 2, 2, 1], padding='VALID')\n",
    "    # - L2 Flatten. Input: 5x5x16. Output: 400. - #\n",
    "    fc0     = v1.layers.flatten(conv2)\n",
    "    \n",
    "    # - L3: Fully connected. Input: 400. Output: 120. - #\n",
    "    fc1_W   = tf.Variable(tf.random.truncated_normal(shape=(400, 120), mean = mu, stddev = sigma))\n",
    "    fc1_b   = tf.Variable(tf.zeros(120))\n",
    "    fc1     = tf.matmul(fc0, fc1_W) + fc1_b\n",
    "    fc1     = tf.nn.relu(fc1)\n",
    "    \n",
    "    # - L4: Fully connected. Input: 120. Output: 84. - #\n",
    "    fc2_W   = tf.Variable(tf.random.truncated_normal(shape=(120, 84), mean = mu, stddev = sigma))\n",
    "    fc2_b   = tf.Variable(tf.zeros(84))\n",
    "    fc2     = tf.matmul(fc1, fc2_W) + fc2_b\n",
    "    fc2     = tf.nn.relu(fc2)\n",
    "    \n",
    "    # - L5: Fully connected. Input: 84. Output: 43. - # \n",
    "    fc3_W   = tf.Variable(tf.random.truncated_normal(shape=(84, 43), mean = mu, stddev = sigma))\n",
    "    fc3_b   = tf.Variable(tf.zeros(43))\n",
    "    fc3     = tf.matmul(fc2, fc3_W) + fc3_b\n",
    "    \n",
    "    logits  = fc3\n",
    "    \n",
    "    return logits"
   ]
  },
  {
   "cell_type": "code",
   "execution_count": 11,
   "id": "controlled-shuttle",
   "metadata": {},
   "outputs": [],
   "source": [
    "EPOCHS = 25\n",
    "BATCH_SIZE = 128\n",
    "ETA = 0.004"
   ]
  },
  {
   "cell_type": "code",
   "execution_count": 16,
   "id": "therapeutic-vegetable",
   "metadata": {},
   "outputs": [
    {
     "name": "stdout",
     "output_type": "stream",
     "text": [
      "Training...\n",
      "\n",
      "EPOCH 1 ...\n",
      "Validation Accuracy = 0.743\n",
      "\n",
      "EPOCH 2 ...\n",
      "Validation Accuracy = 0.859\n",
      "\n",
      "EPOCH 3 ...\n",
      "Validation Accuracy = 0.843\n",
      "\n",
      "EPOCH 4 ...\n",
      "Validation Accuracy = 0.859\n",
      "\n",
      "EPOCH 5 ...\n",
      "Validation Accuracy = 0.869\n",
      "\n",
      "EPOCH 6 ...\n",
      "Validation Accuracy = 0.859\n",
      "\n",
      "EPOCH 7 ...\n",
      "Validation Accuracy = 0.880\n",
      "\n",
      "EPOCH 8 ...\n",
      "Validation Accuracy = 0.869\n",
      "\n",
      "EPOCH 9 ...\n",
      "Validation Accuracy = 0.878\n",
      "\n",
      "EPOCH 10 ...\n",
      "Validation Accuracy = 0.871\n",
      "\n",
      "EPOCH 11 ...\n",
      "Validation Accuracy = 0.882\n",
      "\n",
      "EPOCH 12 ...\n",
      "Validation Accuracy = 0.872\n",
      "\n",
      "EPOCH 13 ...\n",
      "Validation Accuracy = 0.850\n",
      "\n",
      "EPOCH 14 ...\n",
      "Validation Accuracy = 0.895\n",
      "\n",
      "EPOCH 15 ...\n",
      "Validation Accuracy = 0.855\n",
      "\n",
      "EPOCH 16 ...\n",
      "Validation Accuracy = 0.890\n",
      "\n",
      "EPOCH 17 ...\n",
      "Validation Accuracy = 0.894\n",
      "\n",
      "EPOCH 18 ...\n",
      "Validation Accuracy = 0.854\n",
      "\n",
      "EPOCH 19 ...\n",
      "Validation Accuracy = 0.878\n",
      "\n",
      "EPOCH 20 ...\n",
      "Validation Accuracy = 0.884\n",
      "\n",
      "EPOCH 21 ...\n",
      "Validation Accuracy = 0.882\n",
      "\n",
      "EPOCH 22 ...\n",
      "Validation Accuracy = 0.892\n",
      "\n",
      "EPOCH 23 ...\n",
      "Validation Accuracy = 0.896\n",
      "\n",
      "EPOCH 24 ...\n",
      "Validation Accuracy = 0.903\n",
      "\n",
      "EPOCH 25 ...\n",
      "Validation Accuracy = 0.788\n",
      "\n",
      "Model saved\n"
     ]
    }
   ],
   "source": [
    "g = v1.Graph()\n",
    "\n",
    "with g.as_default():\n",
    "    \n",
    "    x = v1.placeholder(tf.float32, (None, 32, 32, 3))\n",
    "    y = v1.placeholder(tf.int32, (None))\n",
    "    one_hot_y = v1.one_hot(y, 43)\n",
    "    \n",
    "    \n",
    "    \n",
    "    logits = LeNet5(x)\n",
    "    cross_entropy = tf.nn.softmax_cross_entropy_with_logits(labels=one_hot_y, logits=logits)\n",
    "\n",
    "    loss_operation = tf.reduce_mean(cross_entropy)\n",
    "    optimizer = v1.train.AdamOptimizer(learning_rate = ETA)\n",
    "    training_operation = optimizer.minimize(loss_operation)\n",
    "\n",
    "    correct_prediction = tf.equal(tf.argmax(logits, 1), tf.argmax(one_hot_y, 1))\n",
    "    accuracy_operation = tf.reduce_mean(tf.cast(correct_prediction, tf.float32))\n",
    "    saver = v1.train.Saver()\n",
    "    \n",
    "    def evaluate(X_data, y_data):\n",
    "        num_examples = len(X_data)\n",
    "        total_accuracy = 0\n",
    "        sess = v1.get_default_session()\n",
    "        for offset in range(0, num_examples, BATCH_SIZE):\n",
    "            batch_x, batch_y = X_data[offset:offset+BATCH_SIZE], y_data[offset:offset+BATCH_SIZE]\n",
    "            accuracy = sess.run(accuracy_operation, feed_dict={x: batch_x, y: batch_y})\n",
    "            total_accuracy += (accuracy * len(batch_x))\n",
    "        return total_accuracy / num_examples\n",
    "    \n",
    "    \n",
    "with v1.Session(graph=g) as sess:\n",
    "    \n",
    "    sess.run(v1.global_variables_initializer())\n",
    "    num_examples = len(X_train_pp)\n",
    "    \n",
    "    print(\"Training...\")\n",
    "    print()\n",
    "    for i in range(EPOCHS):\n",
    "        X_train, y_train = shuffle(X_train_pp, y_train_pp)##\n",
    "        for offset in range(0, num_examples, BATCH_SIZE):\n",
    "            end = offset + BATCH_SIZE\n",
    "            batch_x, batch_y = X_train[offset:end], y_train[offset:end]\n",
    "            sess.run(training_operation, feed_dict={x: batch_x, y: batch_y})\n",
    "            \n",
    "        validation_accuracy = evaluate(X_valid_sf, y_valid_sf)\n",
    "        print(\"EPOCH {} ...\".format(i+1))\n",
    "        print(\"Validation Accuracy = {:.3f}\".format(validation_accuracy))\n",
    "        print()\n",
    "        \n",
    "    saver.save(sess, './lenet')\n",
    "    print(\"Model saved\")"
   ]
  },
  {
   "cell_type": "code",
   "execution_count": 17,
   "id": "metallic-article",
   "metadata": {},
   "outputs": [
    {
     "name": "stdout",
     "output_type": "stream",
     "text": [
      "INFO:tensorflow:Restoring parameters from .\\lenet\n",
      "Test Accuracy = 0.820\n"
     ]
    }
   ],
   "source": [
    "with v1.Session(graph=g) as sess:\n",
    "    saver.restore(sess, tf.train.latest_checkpoint('.'))\n",
    "\n",
    "    test_accuracy = evaluate(X_test_sf, y_test_sf)\n",
    "    print(\"Test Accuracy = {:.3f}\".format(test_accuracy))"
   ]
  },
  {
   "cell_type": "code",
   "execution_count": null,
   "id": "sapphire-ridge",
   "metadata": {},
   "outputs": [],
   "source": []
  }
 ],
 "metadata": {
  "kernelspec": {
   "display_name": "Python 3",
   "language": "python",
   "name": "python3"
  },
  "language_info": {
   "codemirror_mode": {
    "name": "ipython",
    "version": 3
   },
   "file_extension": ".py",
   "mimetype": "text/x-python",
   "name": "python",
   "nbconvert_exporter": "python",
   "pygments_lexer": "ipython3",
   "version": "3.7.10"
  }
 },
 "nbformat": 4,
 "nbformat_minor": 5
}
