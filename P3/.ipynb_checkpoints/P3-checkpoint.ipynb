{
 "cells": [
  {
   "cell_type": "markdown",
   "id": "realistic-harrison",
   "metadata": {},
   "source": [
    "# SDND Project 3 - Traffic Sign Recognition Classifier"
   ]
  },
  {
   "cell_type": "markdown",
   "id": "higher-corrections",
   "metadata": {},
   "source": [
    "## 0. Load the Data"
   ]
  },
  {
   "cell_type": "code",
   "execution_count": 1,
   "id": "closing-politics",
   "metadata": {},
   "outputs": [],
   "source": [
    "import pickle\n",
    "\n",
    "training_file = \"traffic-signs-data/train.p\"\n",
    "validation_file = \"traffic-signs-data/valid.p\"\n",
    "testing_file = \"traffic-signs-data/test.p\"\n",
    "\n",
    "with open(training_file, mode='rb') as f:\n",
    "    train = pickle.load(f)\n",
    "with open(validation_file, mode='rb') as f:\n",
    "    valid = pickle.load(f)\n",
    "with open(testing_file, mode='rb') as f:\n",
    "    test = pickle.load(f)\n",
    "    \n",
    "X_train, y_train = train['features'], train['labels']\n",
    "X_valid, y_valid = valid['features'], valid['labels']\n",
    "X_test, y_test = test['features'], test['labels']"
   ]
  },
  {
   "cell_type": "markdown",
   "id": "necessary-guyana",
   "metadata": {},
   "source": [
    "## 1. Dataset Summary"
   ]
  },
  {
   "cell_type": "code",
   "execution_count": 2,
   "id": "anticipated-magic",
   "metadata": {},
   "outputs": [
    {
     "name": "stdout",
     "output_type": "stream",
     "text": [
      "Number of training examples = 34799\n",
      "Number of testing examples = 12630\n",
      "Image data shape = (32, 32, 3)\n",
      "Number of classes = 43\n"
     ]
    }
   ],
   "source": [
    "# -- Number of samples -- #\n",
    "n_train = len(X_train)   \n",
    "n_valid = len(X_valid)   \n",
    "n_test = len(X_test)     \n",
    "\n",
    "# -- Shape of a traffic sign image -- # \n",
    "image_shape = X_train[0].shape        \n",
    "\n",
    "# -- Number of classes -- #\n",
    "n_classes = len(set(y_train)) \n",
    "\n",
    "print(\"Number of training examples =\", n_train)\n",
    "print(\"Number of testing examples =\", n_test)\n",
    "print(\"Image data shape =\", image_shape)\n",
    "print(\"Number of classes =\", n_classes)"
   ]
  },
  {
   "cell_type": "markdown",
   "id": "worldwide-munich",
   "metadata": {},
   "source": [
    "### Exploratory Visualization of Dataset - TBA"
   ]
  },
  {
   "cell_type": "code",
   "execution_count": 3,
   "id": "talented-prevention",
   "metadata": {},
   "outputs": [
    {
     "name": "stdout",
     "output_type": "stream",
     "text": [
      "7\n"
     ]
    },
    {
     "data": {
      "image/png": "[encoded data removed]",
      "text/plain": [
       "<Figure size 72x72 with 1 Axes>"
      ]
     },
     "metadata": {
      "needs_background": "light"
     },
     "output_type": "display_data"
    }
   ],
   "source": [
    "import matplotlib.pyplot as plt\n",
    "import random\n",
    "\n",
    "%matplotlib inline\n",
    "\n",
    "index = random.randint(0, len(X_train))\n",
    "image = X_train[index].squeeze()\n",
    "\n",
    "plt.figure(figsize=(1,1))\n",
    "plt.imshow(image, cmap=\"gray\")\n",
    "print(y_train[index])"
   ]
  },
  {
   "cell_type": "markdown",
   "id": "optional-plenty",
   "metadata": {},
   "source": [
    "## 2. Model Architecture"
   ]
  },
  {
   "cell_type": "markdown",
   "id": "dominican-scale",
   "metadata": {},
   "source": [
    "### 2.1. Data pre-processing"
   ]
  },
  {
   "cell_type": "code",
   "execution_count": 39,
   "id": "hybrid-albany",
   "metadata": {},
   "outputs": [
    {
     "name": "stdout",
     "output_type": "stream",
     "text": [
      "[[[1.296875  1.2734375 1.28125  ]\n",
      "  [1.296875  1.265625  1.28125  ]\n",
      "  [1.3046875 1.2890625 1.296875 ]\n",
      "  ...\n",
      "  [1.25      1.234375  1.2421875]\n",
      "  [1.25      1.2421875 1.25     ]\n",
      "  [1.2734375 1.2421875 1.2578125]]\n",
      "\n",
      " [[1.3125    1.28125   1.28125  ]\n",
      "  [1.3125    1.2890625 1.296875 ]\n",
      "  [1.3125    1.296875  1.296875 ]\n",
      "  ...\n",
      "  [1.25      1.2421875 1.2421875]\n",
      "  [1.2578125 1.25      1.25     ]\n",
      "  [1.2578125 1.2421875 1.2578125]]\n",
      "\n",
      " [[1.3125    1.2890625 1.2890625]\n",
      "  [1.3203125 1.3046875 1.3046875]\n",
      "  [1.34375   1.328125  1.3125   ]\n",
      "  ...\n",
      "  [1.25      1.234375  1.234375 ]\n",
      "  [1.2578125 1.2421875 1.2421875]\n",
      "  [1.25      1.2421875 1.25     ]]\n",
      "\n",
      " ...\n",
      "\n",
      " [[1.3828125 1.3671875 1.328125 ]\n",
      "  [1.375     1.359375  1.3203125]\n",
      "  [1.3671875 1.3671875 1.359375 ]\n",
      "  ...\n",
      "  [1.3046875 1.28125   1.28125  ]\n",
      "  [1.296875  1.28125   1.2890625]\n",
      "  [1.3125    1.296875  1.296875 ]]\n",
      "\n",
      " [[1.3984375 1.390625  1.3359375]\n",
      "  [1.3984375 1.3671875 1.3359375]\n",
      "  [1.3515625 1.3359375 1.328125 ]\n",
      "  ...\n",
      "  [1.3046875 1.28125   1.28125  ]\n",
      "  [1.296875  1.28125   1.2890625]\n",
      "  [1.296875  1.2734375 1.2734375]]\n",
      "\n",
      " [[1.390625  1.3828125 1.34375  ]\n",
      "  [1.390625  1.3515625 1.328125 ]\n",
      "  [1.328125  1.3046875 1.296875 ]\n",
      "  ...\n",
      "  [1.3046875 1.2734375 1.265625 ]\n",
      "  [1.2890625 1.265625  1.265625 ]\n",
      "  [1.296875  1.2734375 1.265625 ]]]\n",
      "[[[1.296875  1.2734375 1.28125  ]\n",
      "  [1.296875  1.265625  1.28125  ]\n",
      "  [1.3046875 1.2890625 1.296875 ]\n",
      "  ...\n",
      "  [1.25      1.234375  1.2421875]\n",
      "  [1.25      1.2421875 1.25     ]\n",
      "  [1.2734375 1.2421875 1.2578125]]\n",
      "\n",
      " [[1.3125    1.28125   1.28125  ]\n",
      "  [1.3125    1.2890625 1.296875 ]\n",
      "  [1.3125    1.296875  1.296875 ]\n",
      "  ...\n",
      "  [1.25      1.2421875 1.2421875]\n",
      "  [1.2578125 1.25      1.25     ]\n",
      "  [1.2578125 1.2421875 1.2578125]]\n",
      "\n",
      " [[1.3125    1.2890625 1.2890625]\n",
      "  [1.3203125 1.3046875 1.3046875]\n",
      "  [1.34375   1.328125  1.3125   ]\n",
      "  ...\n",
      "  [1.25      1.234375  1.234375 ]\n",
      "  [1.2578125 1.2421875 1.2421875]\n",
      "  [1.25      1.2421875 1.25     ]]\n",
      "\n",
      " ...\n",
      "\n",
      " [[1.3828125 1.3671875 1.328125 ]\n",
      "  [1.375     1.359375  1.3203125]\n",
      "  [1.3671875 1.3671875 1.359375 ]\n",
      "  ...\n",
      "  [1.3046875 1.28125   1.28125  ]\n",
      "  [1.296875  1.28125   1.2890625]\n",
      "  [1.3125    1.296875  1.296875 ]]\n",
      "\n",
      " [[1.3984375 1.390625  1.3359375]\n",
      "  [1.3984375 1.3671875 1.3359375]\n",
      "  [1.3515625 1.3359375 1.328125 ]\n",
      "  ...\n",
      "  [1.3046875 1.28125   1.28125  ]\n",
      "  [1.296875  1.28125   1.2890625]\n",
      "  [1.296875  1.2734375 1.2734375]]\n",
      "\n",
      " [[1.390625  1.3828125 1.34375  ]\n",
      "  [1.390625  1.3515625 1.328125 ]\n",
      "  [1.328125  1.3046875 1.296875 ]\n",
      "  ...\n",
      "  [1.3046875 1.2734375 1.265625 ]\n",
      "  [1.2890625 1.265625  1.265625 ]\n",
      "  [1.296875  1.2734375 1.265625 ]]]\n"
     ]
    }
   ],
   "source": [
    "from sklearn.utils import shuffle\n",
    "import numpy as np\n",
    "import cv2\n",
    "\n",
    "# -- 1. Shuffle the datasets. -- # \n",
    "X_train, y_train = shuffle(X_train, y_train)\n",
    "X_valid, y_valid = shuffle(X_valid, y_valid)\n",
    "X_test, y_test = shuffle(X_test, y_test)\n",
    "\n",
    "# -- 2. Normalize the datasets. -- # \n",
    "tst1 = (X_train[0] - 128) / 128\n",
    "# tst1 = X_train[0] / 255.0\n",
    "print(tst1)\n",
    "cv2.imshow('tst1', tst1)\n",
    "cv2.waitKey(0)\n",
    "cv2.destroyAllWindows()\n",
    "\n",
    "tst2 = tst1 * 128 + 128\n",
    "tst2 = np.uint8(tst2)\n",
    "\n",
    "cv2.imshow('tst2', tst2)\n",
    "cv2.waitKey(0)\n",
    "cv2.destroyAllWindows()\n",
    "\n",
    "def Normalize_Dataset(dataset):\n",
    "    \n",
    "    normalized = []\n",
    "    \n",
    "    for img in dataset:\n",
    "        \n",
    "        img = (img - 128) / 128\n",
    "        normalized.append(img)\n",
    "    \n",
    "    return normalized\n",
    "\n",
    "train_nm = Normalize_Dataset(X_train)\n",
    "print(train_nm[0])"
   ]
  },
  {
   "cell_type": "code",
   "execution_count": null,
   "id": "about-hurricane",
   "metadata": {},
   "outputs": [],
   "source": []
  }
 ],
 "metadata": {
  "kernelspec": {
   "display_name": "Python 3",
   "language": "python",
   "name": "python3"
  },
  "language_info": {
   "codemirror_mode": {
    "name": "ipython",
    "version": 3
   },
   "file_extension": ".py",
   "mimetype": "text/x-python",
   "name": "python",
   "nbconvert_exporter": "python",
   "pygments_lexer": "ipython3",
   "version": "3.7.10"
  }
 },
 "nbformat": 4,
 "nbformat_minor": 5
}
