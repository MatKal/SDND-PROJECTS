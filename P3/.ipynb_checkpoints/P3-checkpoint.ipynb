{
 "cells": [
  {
   "cell_type": "markdown",
   "id": "realistic-harrison",
   "metadata": {},
   "source": [
    "# SDND Project 3 - Traffic Sign Recognition Classifier"
   ]
  },
  {
   "cell_type": "markdown",
   "id": "higher-corrections",
   "metadata": {},
   "source": [
    "## 0. Load the Data"
   ]
  },
  {
   "cell_type": "code",
   "execution_count": 1,
   "id": "civilian-lightning",
   "metadata": {},
   "outputs": [],
   "source": [
    "import pickle"
   ]
  },
  {
   "cell_type": "code",
   "execution_count": 2,
   "id": "closing-politics",
   "metadata": {},
   "outputs": [],
   "source": [
    "# -- File paths -- #\n",
    "training_file = \"traffic-signs-data/train.p\"\n",
    "validation_file = \"traffic-signs-data/valid.p\"\n",
    "testing_file = \"traffic-signs-data/test.p\"\n",
    "\n",
    "# -- Load files -- #\n",
    "with open(training_file, mode='rb') as f:\n",
    "    train = pickle.load(f)\n",
    "with open(validation_file, mode='rb') as f:\n",
    "    valid = pickle.load(f)\n",
    "with open(testing_file, mode='rb') as f:\n",
    "    test = pickle.load(f)\n",
    "\n",
    "# -- Fitting into array -- #\n",
    "X_train, y_train = train['features'], train['labels']\n",
    "X_valid, y_valid = valid['features'], valid['labels']\n",
    "X_test, y_test = test['features'], test['labels']"
   ]
  },
  {
   "cell_type": "markdown",
   "id": "necessary-guyana",
   "metadata": {},
   "source": [
    "## 1. Dataset Summary"
   ]
  },
  {
   "cell_type": "code",
   "execution_count": 3,
   "id": "biblical-gazette",
   "metadata": {},
   "outputs": [],
   "source": [
    "import matplotlib.pyplot as plt\n",
    "import pandas as pd\n",
    "import numpy as np\n",
    "import random\n",
    "import csv"
   ]
  },
  {
   "cell_type": "code",
   "execution_count": 4,
   "id": "anticipated-magic",
   "metadata": {},
   "outputs": [
    {
     "name": "stdout",
     "output_type": "stream",
     "text": [
      "Number of training examples = 34799\n",
      "Number of validation examples = 4410\n",
      "Number of testing examples = 12630\n",
      "Image data shape = (32, 32, 3)\n",
      "Number of classes = 43\n",
      "\n",
      "0 - Speed limit (20km/h)\n",
      "\n",
      "1 - Speed limit (30km/h)\n",
      "\n",
      "2 - Speed limit (50km/h)\n",
      "\n",
      "3 - Speed limit (60km/h)\n",
      "\n",
      "4 - Speed limit (70km/h)\n",
      "\n",
      "5 - Speed limit (80km/h)\n",
      "\n",
      "6 - End of speed limit (80km/h)\n",
      "\n",
      "7 - Speed limit (100km/h)\n",
      "\n",
      "8 - Speed limit (120km/h)\n",
      "\n",
      "9 - No passing\n",
      "\n",
      "10 - No passing for vehicles over 3.5 metric tons\n",
      "\n",
      "11 - Right-of-way at the next intersection\n",
      "\n",
      "12 - Priority road\n",
      "\n",
      "13 - Yield\n",
      "\n",
      "14 - Stop\n",
      "\n",
      "15 - No vehicles\n",
      "\n",
      "16 - Vehicles over 3.5 metric tons prohibited\n",
      "\n",
      "17 - No entry\n",
      "\n",
      "18 - General caution\n",
      "\n",
      "19 - Dangerous curve to the left\n",
      "\n",
      "20 - Dangerous curve to the right\n",
      "\n",
      "21 - Double curve\n",
      "\n",
      "22 - Bumpy road\n",
      "\n",
      "23 - Slippery road\n",
      "\n",
      "24 - Road narrows on the right\n",
      "\n",
      "25 - Road work\n",
      "\n",
      "26 - Traffic signals\n",
      "\n",
      "27 - Pedestrians\n",
      "\n",
      "28 - Children crossing\n",
      "\n",
      "29 - Bicycles crossing\n",
      "\n",
      "30 - Beware of ice/snow\n",
      "\n",
      "31 - Wild animals crossing\n",
      "\n",
      "32 - End of all speed and passing limits\n",
      "\n",
      "33 - Turn right ahead\n",
      "\n",
      "34 - Turn left ahead\n",
      "\n",
      "35 - Ahead only\n",
      "\n",
      "36 - Go straight or right\n",
      "\n",
      "37 - Go straight or left\n",
      "\n",
      "38 - Keep right\n",
      "\n",
      "39 - Keep left\n",
      "\n",
      "40 - Roundabout mandatory\n",
      "\n",
      "41 - End of no passing\n",
      "\n",
      "42 - End of no passing by vehicles over 3.5 metric tons\n"
     ]
    }
   ],
   "source": [
    "# -- Number of samples -- #\n",
    "n_train = len(X_train)   \n",
    "n_valid = len(X_valid)   \n",
    "n_test = len(X_test)     \n",
    "\n",
    "# -- Shape of a traffic sign image -- # \n",
    "image_shape = X_train[0].shape        \n",
    "\n",
    "# -- Number of classes -- #\n",
    "n_classes = len(set(y_train)) \n",
    "\n",
    "# -- Labels & names -- #\n",
    "sign_name_file = pd.read_csv('signnames.csv')\n",
    "sign_name = sign_name_file.to_dict(orient='index')\n",
    "sign_name = {key : val['SignName'] for key, val in sign_name.items()}\n",
    "\n",
    "# -- Print information -- # \n",
    "print(\"Number of training examples =\", n_train)\n",
    "print(\"Number of validation examples =\", n_valid)\n",
    "print(\"Number of testing examples =\", n_test)\n",
    "print(\"Image data shape =\", image_shape)\n",
    "print(\"Number of classes =\", n_classes)\n",
    "for i in range(len(sign_name)):\n",
    "    print()\n",
    "    print(i, \"-\", sign_name[i])"
   ]
  },
  {
   "cell_type": "markdown",
   "id": "worldwide-munich",
   "metadata": {},
   "source": [
    "### Exploratory Visualization of Dataset"
   ]
  },
  {
   "cell_type": "code",
   "execution_count": 10,
   "id": "talented-prevention",
   "metadata": {},
   "outputs": [
    {
     "data": {
      "image/png": "[encoded data removed]",
      "text/plain": [
       "<Figure size 864x432 with 8 Axes>"
      ]
     },
     "metadata": {
      "needs_background": "light"
     },
     "output_type": "display_data"
    }
   ],
   "source": [
    "# -- Plot 8 samples in the training set -- #\n",
    "%matplotlib inline\n",
    "\n",
    "fig, ax = plt.subplots(2, 4, figsize=(12, 6))\n",
    "ax = ax.ravel()\n",
    "fig.tight_layout()\n",
    "\n",
    "for i in range(8):\n",
    "    index = random.randint(0, len(X_train))\n",
    "    image = X_train[index]\n",
    "    ind = y_train[index]\n",
    "    ax[i].axis('off')\n",
    "    ax[i].imshow(image)\n",
    "    ax[i].set_title(sign_name[ind])"
   ]
  },
  {
   "cell_type": "code",
   "execution_count": 6,
   "id": "comic-grounds",
   "metadata": {},
   "outputs": [
    {
     "data": {
      "image/png": "[encoded data removed]",
      "text/plain": [
       "<Figure size 1296x720 with 1 Axes>"
      ]
     },
     "metadata": {
      "needs_background": "light"
     },
     "output_type": "display_data"
    }
   ],
   "source": [
    "# -- Number of samples per class in 3 datasets -- # \n",
    "unique_train, counts_train = np.unique(y_train, return_counts=True)\n",
    "unique_valid, counts_valid = np.unique(y_valid, return_counts=True)\n",
    "unique_test, counts_test = np.unique(y_test, return_counts=True)\n",
    "\n",
    "# -- Plot sample distribution in the 3 datasets -- # \n",
    "x = [unique_train, unique_valid, unique_test]\n",
    "y = [counts_train, counts_valid, counts_test]\n",
    "titles = [\"TRAINING SET\", \"VALIDATION SET\", \"TEST SET\"]\n",
    "\n",
    "width = 0.9\n",
    "fig, ax = plt.subplots(figsize=(18, 10))\n",
    "\n",
    "ax.bar(x[2], y[2], width, label='Test Set')\n",
    "for i, v in enumerate(y[2]):\n",
    "    ax.text(i, v-40, str(v), color='black', ha='center', va='center', fontsize=8)\n",
    "\n",
    "ax.bar(x[1], y[1], width, bottom=y[2], label='Validation Set')\n",
    "for i, v in enumerate(y[1]):\n",
    "    ax.text(i, v+y[2][i]-20, str(v), color='black', ha='center', va='center', fontsize=8)\n",
    "\n",
    "ax.bar(x[0], y[0], width, bottom=y[2]+y[1], label='Training Set')\n",
    "for i, v in enumerate(y[0]):\n",
    "    ax.text(i, v+y[2][i]+y[1][i]-30, str(v), color='black', ha='center', va='center', fontsize=8)\n",
    "\n",
    "ax.grid()\n",
    "ax.set_xticks(x[0])\n",
    "ax.set_xlabel('Class No.')\n",
    "ax.set_ylabel('Number of Samples')\n",
    "ax.legend()\n",
    "ax.set_title(\"SAMPLES PER CLASS IN THE 3 DATASETS\");"
   ]
  },
  {
   "cell_type": "markdown",
   "id": "optional-plenty",
   "metadata": {},
   "source": [
    "---\n",
    "## 2. Model Architecture"
   ]
  },
  {
   "cell_type": "markdown",
   "id": "dominican-scale",
   "metadata": {},
   "source": [
    "### 2.1. Data pre-processing"
   ]
  },
  {
   "cell_type": "code",
   "execution_count": 12,
   "id": "informative-series",
   "metadata": {},
   "outputs": [],
   "source": [
    "from sklearn.utils import shuffle\n",
    "import tensorflow as tf\n",
    "import random"
   ]
  },
  {
   "cell_type": "code",
   "execution_count": 13,
   "id": "hybrid-albany",
   "metadata": {},
   "outputs": [],
   "source": [
    "# -- Data augmentation -- # \n",
    "def Augment_Images(X, y):\n",
    "    \n",
    "    augmented = []\n",
    "    for i in range(len(X)):\n",
    "        \n",
    "        seed = (i, 0)\n",
    "        image = tf.cast(X[i], tf.float32)\n",
    "        image = (image / 255.0)\n",
    "        \n",
    "        flag = random.randint(0, 9)\n",
    "        \n",
    "        if (flag <= 5):\n",
    "            result = (image * 255)\n",
    "            augmented.append(result)\n",
    "            \n",
    "        if (flag == 6):\n",
    "            flip_h = tf.image.flip_left_right(image)\n",
    "            result = (flip_h * 255)\n",
    "            augmented.append(result)\n",
    "            \n",
    "        if (flag == 7):\n",
    "            flip_v = tf.image.flip_up_down(image)\n",
    "            result = (flip_v * 255)\n",
    "            augmented.append(result)\n",
    "            \n",
    "        if (flag == 8):\n",
    "            bright = tf.image.stateless_random_brightness(image, 0.1, seed)\n",
    "            result = (bright * 255)\n",
    "            augmented.append(result)\n",
    "            \n",
    "        if (flag == 9):\n",
    "            contrast = tf.image.stateless_random_contrast(image, 0.9, 1.1, seed)\n",
    "            result = (contrast * 255)\n",
    "            augmented.append(result)\n",
    "            \n",
    "    augmented_nm, y = Preprocess_Images(augmented, y)\n",
    "        \n",
    "    return augmented_nm, y\n",
    "\n",
    "# -- Normalization & grayscaling -- #\n",
    "def Preprocess_Images(X, y):\n",
    "    \n",
    "    normalized = []\n",
    "    for i in range(len(X)):\n",
    "        \n",
    "        image = tf.cast(X[i], tf.float32)\n",
    "        image = tf.image.rgb_to_grayscale(image)\n",
    "        image = (image - 128.0) / 128.0\n",
    "    \n",
    "        normalized.append(image)\n",
    "    \n",
    "    return normalized, y"
   ]
  },
  {
   "cell_type": "code",
   "execution_count": 14,
   "id": "dangerous-candle",
   "metadata": {
    "scrolled": false
   },
   "outputs": [
    {
     "name": "stdout",
     "output_type": "stream",
     "text": [
      "[1-0] Preprocessing Start!\n",
      "[1-1] Shuffle Done!\n",
      "[1-2] Training Data Augmented!\n",
      "[1-3] Datasets Normalized & Grayscaled!\n",
      "[1-F] Preprocessing Done!\n"
     ]
    }
   ],
   "source": [
    "print(\"[1-0] Preprocessing Start!\")\n",
    "\n",
    "# -- 1. Shuffle the datasets. -- # \n",
    "X_train_sf, y_train_sf = shuffle(X_train, y_train)\n",
    "X_valid_sf, y_valid_sf = shuffle(X_valid, y_valid)\n",
    "X_test_sf, y_test_sf = shuffle(X_test, y_test)\n",
    "print(\"[1-1] Shuffle Done!\")\n",
    "\n",
    "# -- 2. Data augmentation & normalization. -- #\n",
    "X_train_pp, y_train_pp = Augment_Images(X_train_sf, y_train_sf)\n",
    "print(\"[1-2] Training Data Augmented!\")\n",
    "\n",
    "# -- 3. Normalize & grayscale validation & test sets. -- # \n",
    "X_train_nm, y_train_nm = Preprocess_Images(X_train_sf, y_train_sf)\n",
    "X_valid_nm, y_valid_nm = Preprocess_Images(X_valid_sf, y_valid_sf)\n",
    "X_test_nm, y_test_nm = Preprocess_Images(X_test_sf, y_test_sf)\n",
    "print(\"[1-3] Datasets Normalized & Grayscaled!\")\n",
    "\n",
    "print(\"[1-F] Preprocessing Done!\")"
   ]
  },
  {
   "cell_type": "code",
   "execution_count": 20,
   "id": "rational-darwin",
   "metadata": {},
   "outputs": [
    {
     "data": {
      "image/png": "[encoded data removed]",
      "text/plain": [
       "<Figure size 432x288 with 2 Axes>"
      ]
     },
     "metadata": {
      "needs_background": "light"
     },
     "output_type": "display_data"
    }
   ],
   "source": [
    "fig, ax = plt.subplots(1, 2)\n",
    "ax[0].imshow(X_train_sf[0])\n",
    "ax[0].set_title(\"Original Image\")\n",
    "ax[1].imshow(X_train_pp[0], cmap='gray')\n",
    "ax[1].set_title(\"Pre-processed Image\");"
   ]
  },
  {
   "cell_type": "markdown",
   "id": "frozen-facility",
   "metadata": {},
   "source": [
    "### 2.2. LeNet-5"
   ]
  },
  {
   "cell_type": "code",
   "execution_count": 22,
   "id": "major-disposition",
   "metadata": {},
   "outputs": [],
   "source": [
    "import tensorflow.compat.v1 as v1"
   ]
  },
  {
   "cell_type": "code",
   "execution_count": 23,
   "id": "leading-greensboro",
   "metadata": {},
   "outputs": [],
   "source": [
    "channels = X_train_pp[0].shape[2]\n",
    "\n",
    "def LeNet5(X):\n",
    "    \n",
    "    # - Random W & b. - # \n",
    "    mu = 0\n",
    "    sigma = 0.1\n",
    "    epsilon = 0.001\n",
    "    \n",
    "    # - L1: Conv. Input: 32x32x3. Output: 28x28x6. - #\n",
    "    conv1_W = tf.Variable(tf.random.truncated_normal(shape=(5, 5, channels, 6), mean=mu, stddev=sigma))\n",
    "    conv1_b = tf.Variable(tf.zeros(6))\n",
    "    conv1   = tf.add(tf.nn.conv2d(X, conv1_W, strides=[1, 1, 1, 1], padding='VALID'), conv1_b)\n",
    "    conv1   = tf.nn.relu(conv1)\n",
    "    # -- L1 Batch normalization. \n",
    "    mean_1, var_1 = v1.nn.moments(conv1, [0])\n",
    "    scale_1 = tf.Variable(tf.ones([28, 28, 6]))\n",
    "    offset_1 = tf.Variable(tf.zeros([28, 28, 6]))\n",
    "    conv1 = v1.nn.batch_normalization(conv1, mean_1, var_1, offset_1, scale_1, epsilon)\n",
    "    # -- L1 Pooling. Input: 28x28x6. Output: 14x14x6. \n",
    "    conv1   = tf.nn.max_pool(conv1, ksize=[1, 2, 2, 1], strides=[1, 2, 2, 1], padding='VALID')\n",
    "    \n",
    "    # - L2: Conv. Input: 14x14x6. Output: 10x10x16. - # \n",
    "    conv2_W = tf.Variable(tf.random.truncated_normal(shape=(5, 5, 6, 16), mean = mu, stddev = sigma))\n",
    "    conv2_b = tf.Variable(tf.zeros(16))\n",
    "    conv2   = tf.add(tf.nn.conv2d(conv1, conv2_W, strides=[1, 1, 1, 1], padding='VALID'), conv2_b)\n",
    "    conv2   = tf.nn.relu(conv2)\n",
    "    # -- L2 Batch normalization. \n",
    "    mean_2, var_2 = v1.nn.moments(conv2, [0])\n",
    "    scale_2 = tf.Variable(tf.ones([10, 10, 16]))\n",
    "    offset_2 = tf.Variable(tf.zeros([10, 10, 16]))\n",
    "    conv2 = v1.nn.batch_normalization(conv2, mean_2, var_2, offset_2, scale_2, epsilon)\n",
    "    # -- L2 Pooling. Input: 10x10x16. Output: 5x5x16. \n",
    "    conv2   = tf.nn.max_pool(conv2, ksize=[1, 2, 2, 1], strides=[1, 2, 2, 1], padding='VALID')\n",
    "    # -- L2 Flatten. Input: 5x5x16. Output: 400.\n",
    "    fc0     = v1.layers.flatten(conv2)   \n",
    "    \n",
    "    # - L3: Fully connected. Input: 400. Output: 120. - #\n",
    "    fc1_W   = tf.Variable(tf.random.truncated_normal(shape=(400, 120), mean = mu, stddev = sigma))\n",
    "    fc1_b   = tf.Variable(tf.zeros(120))\n",
    "    fc1     = tf.add(tf.matmul(fc0, fc1_W), fc1_b)\n",
    "    fc1     = tf.nn.relu(fc1)\n",
    "    # -- L3. Batch normalization. \n",
    "    mean_3, var_3 = v1.nn.moments(fc1, [0])\n",
    "    scale_3 = tf.Variable(tf.ones([120]))\n",
    "    offset_3 = tf.Variable(tf.zeros([120]))\n",
    "    fc1 = v1.nn.batch_normalization(fc1, mean_3, var_3, offset_3, scale_3, epsilon)\n",
    "    # -- L3. Dropout. \n",
    "    fc1     = v1.nn.dropout(fc1, keep_prob)\n",
    "    \n",
    "    # - L4: Fully connected. Input: 120. Output: 84. - #\n",
    "    fc2_W   = tf.Variable(tf.random.truncated_normal(shape=(120, 84), mean = mu, stddev = sigma))\n",
    "    fc2_b   = tf.Variable(tf.zeros(84))\n",
    "    fc2     = tf.add(tf.matmul(fc1, fc2_W), fc2_b)\n",
    "    fc2     = tf.nn.relu(fc2)\n",
    "    # -- L4. Batch normalization. \n",
    "    mean_4, var_4 = v1.nn.moments(fc2, [0])\n",
    "    scale_4 = tf.Variable(tf.ones([84]))\n",
    "    offset_4 = tf.Variable(tf.zeros([84]))\n",
    "    fc2 = v1.nn.batch_normalization(fc2, mean_4, var_4, offset_4, scale_4, epsilon)\n",
    "    # -- L4. Dropout. \n",
    "    fc2     = v1.nn.dropout(fc2, keep_prob)\n",
    "    \n",
    "    # - L5: Fully connected. Input: 84. Output: 43. - # \n",
    "    fc3_W   = tf.Variable(tf.random.truncated_normal(shape=(84, 43), mean = mu, stddev = sigma))\n",
    "    fc3_b   = tf.Variable(tf.zeros(43))\n",
    "    fc3     = tf.add(tf.matmul(fc2, fc3_W), fc3_b)\n",
    "    logits  = fc3\n",
    "    \n",
    "    return logits"
   ]
  },
  {
   "cell_type": "markdown",
   "id": "massive-dover",
   "metadata": {},
   "source": [
    "### 2.3. Pipeline"
   ]
  },
  {
   "cell_type": "code",
   "execution_count": 24,
   "id": "controlled-shuttle",
   "metadata": {},
   "outputs": [],
   "source": [
    "EPOCHS = 50\n",
    "BATCH_SIZE = 128\n",
    "ETA = 0.01"
   ]
  },
  {
   "cell_type": "code",
   "execution_count": 26,
   "id": "photographic-officer",
   "metadata": {},
   "outputs": [],
   "source": [
    "G = v1.Graph()\n",
    "\n",
    "with G.as_default():\n",
    "    \n",
    "    x = v1.placeholder(tf.float32, (None, 32, 32, channels))\n",
    "    y = v1.placeholder(tf.int32, (None))\n",
    "    one_hot_y = v1.one_hot(y, 43)\n",
    "    keep_prob = v1.placeholder(v1.float32)\n",
    "    \n",
    "    logits = LeNet5(x)\n",
    "    cross_entropy = tf.nn.softmax_cross_entropy_with_logits(labels=one_hot_y, logits=logits)\n",
    "\n",
    "    loss_operation = tf.reduce_mean(cross_entropy)\n",
    "    optimizer = v1.train.AdamOptimizer(learning_rate = ETA, beta1=0.95, beta2=0.98)\n",
    "    training_operation = optimizer.minimize(loss_operation)\n",
    "\n",
    "    correct_prediction = tf.equal(tf.argmax(logits, 1), tf.argmax(one_hot_y, 1))\n",
    "    accuracy_operation = tf.reduce_mean(tf.cast(correct_prediction, tf.float32))\n",
    "    saver = v1.train.Saver()\n",
    "    \n",
    "    def Evaluate_Model(X_data, y_data):\n",
    "        \n",
    "        num_examples = len(X_data)\n",
    "        total_accuracy = 0\n",
    "        sess = v1.get_default_session()\n",
    "        \n",
    "        for offset in range(0, num_examples, BATCH_SIZE):\n",
    "            \n",
    "            batch_x, batch_y = X_data[offset : offset+BATCH_SIZE], y_data[offset : offset+BATCH_SIZE]\n",
    "            accuracy = sess.run(accuracy_operation, feed_dict={x: batch_x, y: batch_y, keep_prob: 1})\n",
    "            total_accuracy += (accuracy * len(batch_x))\n",
    "            \n",
    "        return total_accuracy / num_examples"
   ]
  },
  {
   "cell_type": "code",
   "execution_count": 30,
   "id": "therapeutic-vegetable",
   "metadata": {
    "scrolled": true
   },
   "outputs": [
    {
     "name": "stdout",
     "output_type": "stream",
     "text": [
      "Training...\n",
      "\n",
      "EPOCH 1 ...\n",
      "Validation Accuracy = 0.821\n",
      "\n",
      "EPOCH 2 ...\n",
      "Validation Accuracy = 0.895\n",
      "\n",
      "EPOCH 3 ...\n",
      "Validation Accuracy = 0.897\n",
      "\n",
      "EPOCH 4 ...\n",
      "Validation Accuracy = 0.920\n",
      "\n",
      "EPOCH 5 ...\n",
      "Validation Accuracy = 0.914\n",
      "\n",
      "EPOCH 6 ...\n",
      "Validation Accuracy = 0.922\n",
      "\n",
      "EPOCH 7 ...\n",
      "Validation Accuracy = 0.917\n",
      "\n",
      "EPOCH 8 ...\n",
      "Validation Accuracy = 0.927\n",
      "\n",
      "EPOCH 9 ...\n",
      "Validation Accuracy = 0.929\n",
      "\n",
      "EPOCH 10 ...\n",
      "Validation Accuracy = 0.921\n",
      "\n",
      "EPOCH 11 ...\n",
      "Validation Accuracy = 0.926\n",
      "\n",
      "EPOCH 12 ...\n",
      "Validation Accuracy = 0.929\n",
      "\n",
      "EPOCH 13 ...\n",
      "Validation Accuracy = 0.940\n",
      "\n",
      "EPOCH 14 ...\n",
      "Validation Accuracy = 0.920\n",
      "\n",
      "EPOCH 15 ...\n",
      "Validation Accuracy = 0.933\n",
      "\n",
      "EPOCH 16 ...\n",
      "Validation Accuracy = 0.938\n",
      "\n",
      "EPOCH 17 ...\n",
      "Validation Accuracy = 0.948\n",
      "\n",
      "EPOCH 18 ...\n",
      "Validation Accuracy = 0.932\n",
      "\n",
      "EPOCH 19 ...\n",
      "Validation Accuracy = 0.928\n",
      "\n",
      "EPOCH 20 ...\n",
      "Validation Accuracy = 0.926\n",
      "\n",
      "EPOCH 21 ...\n",
      "Validation Accuracy = 0.938\n",
      "\n",
      "EPOCH 22 ...\n",
      "Validation Accuracy = 0.929\n",
      "\n",
      "EPOCH 23 ...\n",
      "Validation Accuracy = 0.938\n",
      "\n",
      "EPOCH 24 ...\n",
      "Validation Accuracy = 0.938\n",
      "\n",
      "EPOCH 25 ...\n",
      "Validation Accuracy = 0.939\n",
      "\n",
      "EPOCH 26 ...\n",
      "Validation Accuracy = 0.940\n",
      "\n",
      "EPOCH 27 ...\n",
      "Validation Accuracy = 0.929\n",
      "\n",
      "EPOCH 28 ...\n",
      "Validation Accuracy = 0.944\n",
      "\n",
      "EPOCH 29 ...\n",
      "Validation Accuracy = 0.945\n",
      "\n",
      "EPOCH 30 ...\n",
      "Validation Accuracy = 0.943\n",
      "\n",
      "EPOCH 31 ...\n",
      "Validation Accuracy = 0.941\n",
      "\n",
      "EPOCH 32 ...\n",
      "Validation Accuracy = 0.939\n",
      "\n",
      "EPOCH 33 ...\n",
      "Validation Accuracy = 0.930\n",
      "\n",
      "EPOCH 34 ...\n",
      "Validation Accuracy = 0.944\n",
      "\n",
      "EPOCH 35 ...\n",
      "Validation Accuracy = 0.938\n",
      "\n",
      "EPOCH 36 ...\n",
      "Validation Accuracy = 0.942\n",
      "\n",
      "EPOCH 37 ...\n",
      "Validation Accuracy = 0.935\n",
      "\n",
      "EPOCH 38 ...\n",
      "Validation Accuracy = 0.936\n",
      "\n",
      "EPOCH 39 ...\n",
      "Validation Accuracy = 0.939\n",
      "\n",
      "EPOCH 40 ...\n",
      "Validation Accuracy = 0.944\n",
      "\n",
      "EPOCH 41 ...\n",
      "Validation Accuracy = 0.941\n",
      "\n",
      "EPOCH 42 ...\n",
      "Validation Accuracy = 0.946\n",
      "\n",
      "EPOCH 43 ...\n",
      "Validation Accuracy = 0.940\n",
      "\n",
      "EPOCH 44 ...\n",
      "Validation Accuracy = 0.947\n",
      "\n",
      "EPOCH 45 ...\n",
      "Validation Accuracy = 0.945\n",
      "\n",
      "EPOCH 46 ...\n",
      "Validation Accuracy = 0.945\n",
      "\n",
      "EPOCH 47 ...\n",
      "Validation Accuracy = 0.950\n",
      "\n",
      "EPOCH 48 ...\n",
      "Validation Accuracy = 0.932\n",
      "\n",
      "EPOCH 49 ...\n",
      "Validation Accuracy = 0.949\n",
      "\n",
      "EPOCH 50 ...\n",
      "Validation Accuracy = 0.945\n",
      "\n",
      "Model saved\n"
     ]
    }
   ],
   "source": [
    "with v1.Session(graph=G) as sess:\n",
    "    \n",
    "    sess.run(v1.global_variables_initializer())\n",
    "    num_examples = len(X_train_pp)\n",
    "    \n",
    "    print(\"Training...\")\n",
    "    print()\n",
    "    v1.set_random_seed(123456)\n",
    "    for i in range(EPOCHS):\n",
    "        \n",
    "        X_train, y_train = shuffle(X_train_pp, y_train_pp)\n",
    "        \n",
    "        for offset in range(0, num_examples, BATCH_SIZE):\n",
    "            \n",
    "            end = offset + BATCH_SIZE\n",
    "            batch_x, batch_y = X_train[offset:end], y_train[offset:end]\n",
    "            sess.run(training_operation, feed_dict={x: batch_x, y: batch_y, keep_prob: 0.5})\n",
    "            \n",
    "        validation_accuracy = Evaluate_Model(X_valid_nm, y_valid_nm)\n",
    "        \n",
    "        print(\"EPOCH {} ...\".format(i+1))\n",
    "        print(\"Validation Accuracy = {:.3f}\".format(validation_accuracy))\n",
    "        print()\n",
    "        \n",
    "    saver.save(sess, './lenet')\n",
    "    print(\"Model saved\")"
   ]
  },
  {
   "cell_type": "code",
   "execution_count": 31,
   "id": "sapphire-ridge",
   "metadata": {},
   "outputs": [
    {
     "name": "stdout",
     "output_type": "stream",
     "text": [
      "INFO:tensorflow:Restoring parameters from .\\lenet\n",
      "Training Accuracy = 0.993\n"
     ]
    }
   ],
   "source": [
    "with v1.Session(graph=G) as sess:\n",
    "    \n",
    "    sess.run(v1.global_variables_initializer())\n",
    "    saver.restore(sess, tf.train.latest_checkpoint('.'))\n",
    "    train_accuracy = Evaluate_Model(X_train_nm, y_train_nm)\n",
    "    \n",
    "    print(\"Training Accuracy = {:.3f}\".format(train_accuracy))"
   ]
  },
  {
   "cell_type": "code",
   "execution_count": 32,
   "id": "heated-score",
   "metadata": {},
   "outputs": [
    {
     "name": "stdout",
     "output_type": "stream",
     "text": [
      "INFO:tensorflow:Restoring parameters from .\\lenet\n",
      "Validation Accuracy = 0.945\n"
     ]
    }
   ],
   "source": [
    "with v1.Session(graph=G) as sess:\n",
    "    \n",
    "    sess.run(v1.global_variables_initializer())\n",
    "    saver.restore(sess, tf.train.latest_checkpoint('.'))\n",
    "    valid_accuracy = Evaluate_Model(X_valid_nm, y_valid_nm)\n",
    "    \n",
    "    print(\"Validation Accuracy = {:.3f}\".format(valid_accuracy))"
   ]
  },
  {
   "cell_type": "code",
   "execution_count": 33,
   "id": "metallic-article",
   "metadata": {},
   "outputs": [
    {
     "name": "stdout",
     "output_type": "stream",
     "text": [
      "INFO:tensorflow:Restoring parameters from .\\lenet\n",
      "Test Accuracy = 0.925\n"
     ]
    }
   ],
   "source": [
    "with v1.Session(graph=G) as sess:\n",
    "    \n",
    "    sess.run(v1.global_variables_initializer())\n",
    "    saver.restore(sess, tf.train.latest_checkpoint('.'))\n",
    "    test_accuracy = Evaluate_Model(X_test_nm, y_test_nm)\n",
    "    \n",
    "    print(\"Test Accuracy = {:.3f}\".format(test_accuracy))"
   ]
  },
  {
   "cell_type": "markdown",
   "id": "solid-bradley",
   "metadata": {},
   "source": [
    "---\n",
    "## 3. Test Model on New Images"
   ]
  },
  {
   "cell_type": "markdown",
   "id": "arctic-theme",
   "metadata": {},
   "source": [
    "### 3.1. Load and plot the images"
   ]
  },
  {
   "cell_type": "code",
   "execution_count": 34,
   "id": "sensitive-exemption",
   "metadata": {},
   "outputs": [],
   "source": [
    "import matplotlib.image as mpimg\n",
    "import cv2 \n",
    "import glob"
   ]
  },
  {
   "cell_type": "code",
   "execution_count": 35,
   "id": "available-negotiation",
   "metadata": {},
   "outputs": [
    {
     "data": {
      "image/png": "[encoded data removed]",
      "text/plain": [
       "<Figure size 2304x2304 with 6 Axes>"
      ]
     },
     "metadata": {
      "needs_background": "light"
     },
     "output_type": "display_data"
    }
   ],
   "source": [
    "# -- Plot 6 images downloaded from the web -- # \n",
    "images = []\n",
    "for img in glob.glob(\"test-images/*.jpg\"):\n",
    "    \n",
    "    image = mpimg.imread(img)\n",
    "    image = cv2.resize(image, (32, 32))\n",
    "    images.append(image)\n",
    "    \n",
    "y_webimg = [25, 4, 17, 12, 11, 31]\n",
    "X_webimg, y_webimg = Preprocess_Images(images, y_webimg)\n",
    "\n",
    "size = image_shape[0]\n",
    "fig = plt.figure(figsize=(size,size))\n",
    "\n",
    "for i in range(0, len(images)):\n",
    "    \n",
    "    ax = fig.add_subplot(1, len(images), i+1)\n",
    "    ax.set_title(('{} - {}').format(y_webimg[i],[sign_name[y_webimg[i]]]))\n",
    "    plt.imshow(images[i])\n",
    "    \n",
    "plt.show()"
   ]
  },
  {
   "cell_type": "markdown",
   "id": "super-mileage",
   "metadata": {},
   "source": [
    "### 3.2. Predict the sign type for each image"
   ]
  },
  {
   "cell_type": "code",
   "execution_count": 36,
   "id": "entertaining-smile",
   "metadata": {},
   "outputs": [
    {
     "name": "stdout",
     "output_type": "stream",
     "text": [
      "INFO:tensorflow:Restoring parameters from .\\lenet\n",
      "Predicted:\n",
      "25 : Road work\n",
      "Actual:\n",
      "25 : Road work\n",
      "\n",
      "Predicted:\n",
      "4 : Speed limit (70km/h)\n",
      "Actual:\n",
      "4 : Speed limit (70km/h)\n",
      "\n",
      "Predicted:\n",
      "17 : No entry\n",
      "Actual:\n",
      "17 : No entry\n",
      "\n",
      "Predicted:\n",
      "12 : Priority road\n",
      "Actual:\n",
      "12 : Priority road\n",
      "\n",
      "Predicted:\n",
      "11 : Right-of-way at the next intersection\n",
      "Actual:\n",
      "11 : Right-of-way at the next intersection\n",
      "\n",
      "Predicted:\n",
      "31 : Wild animals crossing\n",
      "Actual:\n",
      "31 : Wild animals crossing\n",
      "\n"
     ]
    }
   ],
   "source": [
    "with v1.Session(graph=G) as sess:\n",
    "    \n",
    "    sess.run(v1.global_variables_initializer())\n",
    "    saver.restore(sess, tf.train.latest_checkpoint('.'))\n",
    "    predictions = sess.run(tf.argmax(logits, 1), feed_dict={x: X_webimg, y: y_webimg, keep_prob: 1})\n",
    "    \n",
    "for i in range(len(predictions)):  \n",
    "    \n",
    "    print('Predicted:')\n",
    "    print('{} : {}'.format(predictions[i], sign_name[predictions[i]]))\n",
    "    print('Actual:')\n",
    "    print('{} : {}'.format(y_webimg[i], sign_name[y_webimg[i]]))\n",
    "    print()"
   ]
  },
  {
   "cell_type": "code",
   "execution_count": 37,
   "id": "pacific-bride",
   "metadata": {},
   "outputs": [
    {
     "name": "stdout",
     "output_type": "stream",
     "text": [
      "INFO:tensorflow:Restoring parameters from .\\lenet\n",
      "Test Accuracy on Web Images = 1.000\n"
     ]
    }
   ],
   "source": [
    "with v1.Session(graph=G) as sess:\n",
    "    \n",
    "    sess.run(v1.global_variables_initializer())\n",
    "    saver.restore(sess, tf.train.latest_checkpoint('.'))\n",
    "    webimg_accuracy = Evaluate_Model(X_webimg, y_webimg)\n",
    "    \n",
    "    print(\"Test Accuracy on Web Images = {:.3f}\".format(webimg_accuracy))"
   ]
  },
  {
   "cell_type": "markdown",
   "id": "exciting-locator",
   "metadata": {},
   "source": [
    "### 3.3. 5 Top Softmax probabilities for each image"
   ]
  },
  {
   "cell_type": "code",
   "execution_count": 38,
   "id": "minimal-congress",
   "metadata": {},
   "outputs": [
    {
     "name": "stdout",
     "output_type": "stream",
     "text": [
      "INFO:tensorflow:Restoring parameters from .\\lenet\n",
      "\n",
      "Image: 1  Label: 25\n",
      "Probabilities:\n",
      "   0.999926 : 25 - Road work\n",
      "   0.000041 : 1 - Speed limit (30km/h)\n",
      "   0.000030 : 24 - Road narrows on the right\n",
      "   0.000001 : 27 - Pedestrians\n",
      "   0.000001 : 2 - Speed limit (50km/h)\n",
      "\n",
      "Image: 2  Label: 4\n",
      "Probabilities:\n",
      "   0.983205 : 4 - Speed limit (70km/h)\n",
      "   0.005348 : 5 - Speed limit (80km/h)\n",
      "   0.004728 : 15 - No vehicles\n",
      "   0.003943 : 3 - Speed limit (60km/h)\n",
      "   0.001539 : 1 - Speed limit (30km/h)\n",
      "\n",
      "Image: 3  Label: 17\n",
      "Probabilities:\n",
      "   1.000000 : 17 - No entry\n",
      "   0.000000 : 9 - No passing\n",
      "   0.000000 : 34 - Turn left ahead\n",
      "   0.000000 : 14 - Stop\n",
      "   0.000000 : 33 - Turn right ahead\n",
      "\n",
      "Image: 4  Label: 12\n",
      "Probabilities:\n",
      "   0.998089 : 12 - Priority road\n",
      "   0.001846 : 9 - No passing\n",
      "   0.000058 : 35 - Ahead only\n",
      "   0.000005 : 40 - Roundabout mandatory\n",
      "   0.000001 : 10 - No passing for vehicles over 3.5 metric tons\n",
      "\n",
      "Image: 5  Label: 11\n",
      "Probabilities:\n",
      "   0.999543 : 11 - Right-of-way at the next intersection\n",
      "   0.000453 : 30 - Beware of ice/snow\n",
      "   0.000003 : 27 - Pedestrians\n",
      "   0.000001 : 18 - General caution\n",
      "   0.000000 : 34 - Turn left ahead\n",
      "\n",
      "Image: 6  Label: 31\n",
      "Probabilities:\n",
      "   0.978842 : 31 - Wild animals crossing\n",
      "   0.005244 : 39 - Keep left\n",
      "   0.005094 : 13 - Yield\n",
      "   0.004865 : 5 - Speed limit (80km/h)\n",
      "   0.003008 : 2 - Speed limit (50km/h)\n"
     ]
    }
   ],
   "source": [
    "with v1.Session(graph=G) as sess:\n",
    "    \n",
    "    sess.run(v1.global_variables_initializer())\n",
    "    \n",
    "    k_size = 5\n",
    "    softmax_logits = tf.nn.softmax(logits)\n",
    "    top_k = tf.nn.top_k(softmax_logits, k=k_size)\n",
    "\n",
    "    saver.restore(sess, tf.train.latest_checkpoint('.'))\n",
    "    image_softmax_logits = sess.run(softmax_logits, feed_dict={x: X_webimg, keep_prob: 1})\n",
    "    images_top_k = sess.run(top_k, feed_dict={x: X_webimg, keep_prob: 1})\n",
    "    \n",
    "for i in range(len(images_top_k[0])):\n",
    "    \n",
    "    print()\n",
    "    print('Image:', i+1, ' Label:', y_webimg[i])\n",
    "    print('Probabilities:')\n",
    "    for j in range(0, len(images_top_k[0][i])):\n",
    "        probabilities = images_top_k[0][i][j]\n",
    "        index = images_top_k[1][i][j]\n",
    "        name = sign_name[index]\n",
    "        print('   {:.6f} : {} - {}'.format(probabilities, index, name))"
   ]
  }
 ],
 "metadata": {
  "kernelspec": {
   "display_name": "Python 3",
   "language": "python",
   "name": "python3"
  },
  "language_info": {
   "codemirror_mode": {
    "name": "ipython",
    "version": 3
   },
   "file_extension": ".py",
   "mimetype": "text/x-python",
   "name": "python",
   "nbconvert_exporter": "python",
   "pygments_lexer": "ipython3",
   "version": "3.7.10"
  }
 },
 "nbformat": 4,
 "nbformat_minor": 5
}
